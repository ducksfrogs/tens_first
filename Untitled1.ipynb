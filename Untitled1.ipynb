{
 "cells": [
  {
   "cell_type": "code",
   "execution_count": 1,
   "metadata": {},
   "outputs": [
    {
     "name": "stdout",
     "output_type": "stream",
     "text": [
      "Version 2.4.1\n",
      "Eager mode:  True\n",
      "Hub version:  0.11.0\n",
      "GPU is NOT AVAILABLE\n"
     ]
    }
   ],
   "source": [
    "import os\n",
    "import numpy as np\n",
    "\n",
    "import tensorflow as tf\n",
    "import tensorflow_hub as hub\n",
    "import tensorflow_datasets as tfds\n",
    "\n",
    "print(\"Version\", tf.__version__)\n",
    "print(\"Eager mode: \", tf.executing_eagerly())\n",
    "print(\"Hub version: \", hub.__version__)\n",
    "print(\"GPU is\", \"available\" if tf.config.experimental.list_physical_devices(\"GPU\") else \"NOT AVAILABLE\")\n"
   ]
  },
  {
   "cell_type": "code",
   "execution_count": 2,
   "metadata": {},
   "outputs": [
    {
     "name": "stdout",
     "output_type": "stream",
     "text": [
      "\u001b[1mDownloading and preparing dataset 80.23 MiB (download: 80.23 MiB, generated: Unknown size, total: 80.23 MiB) to /home/ma/tensorflow_datasets/imdb_reviews/plain_text/1.0.0...\u001b[0m\n"
     ]
    },
    {
     "data": {
      "application/vnd.jupyter.widget-view+json": {
       "model_id": "d9c21204206848d386876bde1c17fff3",
       "version_major": 2,
       "version_minor": 0
      },
      "text/plain": [
       "HBox(children=(HTML(value='Dl Completed...'), FloatProgress(value=1.0, bar_style='info', layout=Layout(width='…"
      ]
     },
     "metadata": {},
     "output_type": "display_data"
    },
    {
     "data": {
      "application/vnd.jupyter.widget-view+json": {
       "model_id": "75b21a5f68c9418cb7afd0c91e8c6bbe",
       "version_major": 2,
       "version_minor": 0
      },
      "text/plain": [
       "HBox(children=(HTML(value='Dl Size...'), FloatProgress(value=1.0, bar_style='info', layout=Layout(width='20px'…"
      ]
     },
     "metadata": {},
     "output_type": "display_data"
    },
    {
     "name": "stdout",
     "output_type": "stream",
     "text": [
      "\n",
      "\n",
      "\n",
      "\n"
     ]
    },
    {
     "data": {
      "application/vnd.jupyter.widget-view+json": {
       "model_id": "311fcc8742e64177bfba208bb9f13ce3",
       "version_major": 2,
       "version_minor": 0
      },
      "text/plain": [
       "HBox(children=(HTML(value='Generating splits...'), FloatProgress(value=0.0, max=3.0), HTML(value='')))"
      ]
     },
     "metadata": {},
     "output_type": "display_data"
    },
    {
     "data": {
      "application/vnd.jupyter.widget-view+json": {
       "model_id": "96958c9b47134b28acca4790676c6174",
       "version_major": 2,
       "version_minor": 0
      },
      "text/plain": [
       "HBox(children=(HTML(value='Generating train examples...'), FloatProgress(value=0.0, max=25000.0), HTML(value='…"
      ]
     },
     "metadata": {},
     "output_type": "display_data"
    },
    {
     "data": {
      "application/vnd.jupyter.widget-view+json": {
       "model_id": "6268d7e46e2743efaa5698fd82d516f6",
       "version_major": 2,
       "version_minor": 0
      },
      "text/plain": [
       "HBox(children=(HTML(value='Shuffling imdb_reviews-train.tfrecord...'), FloatProgress(value=0.0, max=25000.0), …"
      ]
     },
     "metadata": {},
     "output_type": "display_data"
    },
    {
     "data": {
      "application/vnd.jupyter.widget-view+json": {
       "model_id": "9225df8b0ba348ceb2ef58d305cfdcab",
       "version_major": 2,
       "version_minor": 0
      },
      "text/plain": [
       "HBox(children=(HTML(value='Generating test examples...'), FloatProgress(value=0.0, max=25000.0), HTML(value=''…"
      ]
     },
     "metadata": {},
     "output_type": "display_data"
    },
    {
     "data": {
      "application/vnd.jupyter.widget-view+json": {
       "model_id": "d2d3f5f1aa75409095936324026e8d37",
       "version_major": 2,
       "version_minor": 0
      },
      "text/plain": [
       "HBox(children=(HTML(value='Shuffling imdb_reviews-test.tfrecord...'), FloatProgress(value=0.0, max=25000.0), H…"
      ]
     },
     "metadata": {},
     "output_type": "display_data"
    },
    {
     "data": {
      "application/vnd.jupyter.widget-view+json": {
       "model_id": "fc95e74470b241b2aef5a0b4f3fa8406",
       "version_major": 2,
       "version_minor": 0
      },
      "text/plain": [
       "HBox(children=(HTML(value='Generating unsupervised examples...'), FloatProgress(value=0.0, max=50000.0), HTML(…"
      ]
     },
     "metadata": {},
     "output_type": "display_data"
    },
    {
     "data": {
      "application/vnd.jupyter.widget-view+json": {
       "model_id": "0f292e2f8a3a4855ad2f2ac50f58287b",
       "version_major": 2,
       "version_minor": 0
      },
      "text/plain": [
       "HBox(children=(HTML(value='Shuffling imdb_reviews-unsupervised.tfrecord...'), FloatProgress(value=0.0, max=500…"
      ]
     },
     "metadata": {},
     "output_type": "display_data"
    },
    {
     "name": "stdout",
     "output_type": "stream",
     "text": [
      "\u001b[1mDataset imdb_reviews downloaded and prepared to /home/ma/tensorflow_datasets/imdb_reviews/plain_text/1.0.0. Subsequent calls will reuse this data.\u001b[0m\n"
     ]
    }
   ],
   "source": [
    "train_data, validation_data, test_data = tfds.load(\n",
    "    name='imdb_reviews',\n",
    "    split=('train[:60%]', 'train[60%:]', 'test'),\n",
    "    as_supervised = True\n",
    ")\n"
   ]
  },
  {
   "cell_type": "code",
   "execution_count": 4,
   "metadata": {},
   "outputs": [
    {
     "data": {
      "text/plain": [
       "<PrefetchDataset shapes: ((), ()), types: (tf.string, tf.int64)>"
      ]
     },
     "execution_count": 4,
     "metadata": {},
     "output_type": "execute_result"
    }
   ],
   "source": [
    "train_data"
   ]
  },
  {
   "cell_type": "code",
   "execution_count": 5,
   "metadata": {},
   "outputs": [],
   "source": [
    "train_examples_batch, train_labels_batch = next(iter(train_data.batch(10)))\n"
   ]
  },
  {
   "cell_type": "code",
   "execution_count": 6,
   "metadata": {},
   "outputs": [
    {
     "data": {
      "text/plain": [
       "<tf.Tensor: shape=(10,), dtype=string, numpy=\n",
       "array([b\"This was an absolutely terrible movie. Don't be lured in by Christopher Walken or Michael Ironside. Both are great actors, but this must simply be their worst role in history. Even their great acting could not redeem this movie's ridiculous storyline. This movie is an early nineties US propaganda piece. The most pathetic scenes were those when the Columbian rebels were making their cases for revolutions. Maria Conchita Alonso appeared phony, and her pseudo-love affair with Walken was nothing but a pathetic emotional plug in a movie that was devoid of any real meaning. I am disappointed that there are movies like this, ruining actor's like Christopher Walken's good name. I could barely sit through it.\",\n",
       "       b'I have been known to fall asleep during films, but this is usually due to a combination of things including, really tired, being warm and comfortable on the sette and having just eaten a lot. However on this occasion I fell asleep because the film was rubbish. The plot development was constant. Constantly slow and boring. Things seemed to happen, but with no explanation of what was causing them or why. I admit, I may have missed part of the film, but i watched the majority of it and everything just seemed to happen of its own accord without any real concern for anything else. I cant recommend this film at all.',\n",
       "       b'Mann photographs the Alberta Rocky Mountains in a superb fashion, and Jimmy Stewart and Walter Brennan give enjoyable performances as they always seem to do. <br /><br />But come on Hollywood - a Mountie telling the people of Dawson City, Yukon to elect themselves a marshal (yes a marshal!) and to enforce the law themselves, then gunfighters battling it out on the streets for control of the town? <br /><br />Nothing even remotely resembling that happened on the Canadian side of the border during the Klondike gold rush. Mr. Mann and company appear to have mistaken Dawson City for Deadwood, the Canadian North for the American Wild West.<br /><br />Canadian viewers be prepared for a Reefer Madness type of enjoyable howl with this ludicrous plot, or, to shake your head in disgust.',\n",
       "       b'This is the kind of film for a snowy Sunday afternoon when the rest of the world can go ahead with its own business as you descend into a big arm-chair and mellow for a couple of hours. Wonderful performances from Cher and Nicolas Cage (as always) gently row the plot along. There are no rapids to cross, no dangerous waters, just a warm and witty paddle through New York life at its best. A family film in every sense and one that deserves the praise it received.',\n",
       "       b'As others have mentioned, all the women that go nude in this film are mostly absolutely gorgeous. The plot very ably shows the hypocrisy of the female libido. When men are around they want to be pursued, but when no \"men\" are around, they become the pursuers of a 14 year old boy. And the boy becomes a man really fast (we should all be so lucky at this age!). He then gets up the courage to pursue his true love.',\n",
       "       b\"This is a film which should be seen by anybody interested in, effected by, or suffering from an eating disorder. It is an amazingly accurate and sensitive portrayal of bulimia in a teenage girl, its causes and its symptoms. The girl is played by one of the most brilliant young actresses working in cinema today, Alison Lohman, who was later so spectacular in 'Where the Truth Lies'. I would recommend that this film be shown in all schools, as you will never see a better on this subject. Alison Lohman is absolutely outstanding, and one marvels at her ability to convey the anguish of a girl suffering from this compulsive disorder. If barometers tell us the air pressure, Alison Lohman tells us the emotional pressure with the same degree of accuracy. Her emotional range is so precise, each scene could be measured microscopically for its gradations of trauma, on a scale of rising hysteria and desperation which reaches unbearable intensity. Mare Winningham is the perfect choice to play her mother, and does so with immense sympathy and a range of emotions just as finely tuned as Lohman's. Together, they make a pair of sensitive emotional oscillators vibrating in resonance with one another. This film is really an astonishing achievement, and director Katt Shea should be proud of it. The only reason for not seeing it is if you are not interested in people. But even if you like nature films best, this is after all animal behaviour at the sharp edge. Bulimia is an extreme version of how a tormented soul can destroy her own body in a frenzy of despair. And if we don't sympathise with people suffering from the depths of despair, then we are dead inside.\",\n",
       "       b'Okay, you have:<br /><br />Penelope Keith as Miss Herringbone-Tweed, B.B.E. (Backbone of England.) She\\'s killed off in the first scene - that\\'s right, folks; this show has no backbone!<br /><br />Peter O\\'Toole as Ol\\' Colonel Cricket from The First War and now the emblazered Lord of the Manor.<br /><br />Joanna Lumley as the ensweatered Lady of the Manor, 20 years younger than the colonel and 20 years past her own prime but still glamourous (Brit spelling, not mine) enough to have a toy-boy on the side. It\\'s alright, they have Col. Cricket\\'s full knowledge and consent (they guy even comes \\'round for Christmas!) Still, she\\'s considerate of the colonel enough to have said toy-boy her own age (what a gal!)<br /><br />David McCallum as said toy-boy, equally as pointlessly glamourous as his squeeze. Pilcher couldn\\'t come up with any cover for him within the story, so she gave him a hush-hush job at the Circus.<br /><br />and finally:<br /><br />Susan Hampshire as Miss Polonia Teacups, Venerable Headmistress of the Venerable Girls\\' Boarding-School, serving tea in her office with a dash of deep, poignant advice for life in the outside world just before graduation. Her best bit of advice: \"I\\'ve only been to Nancherrow (the local Stately Home of England) once. I thought it was very beautiful but, somehow, not part of the real world.\" Well, we can\\'t say they didn\\'t warn us.<br /><br />Ah, Susan - time was, your character would have been running the whole show. They don\\'t write \\'em like that any more. Our loss, not yours.<br /><br />So - with a cast and setting like this, you have the re-makings of \"Brideshead Revisited,\" right?<br /><br />Wrong! They took these 1-dimensional supporting roles because they paid so well. After all, acting is one of the oldest temp-jobs there is (YOU name another!)<br /><br />First warning sign: lots and lots of backlighting. They get around it by shooting outdoors - \"hey, it\\'s just the sunlight!\"<br /><br />Second warning sign: Leading Lady cries a lot. When not crying, her eyes are moist. That\\'s the law of romance novels: Leading Lady is \"dewy-eyed.\"<br /><br />Henceforth, Leading Lady shall be known as L.L.<br /><br />Third warning sign: L.L. actually has stars in her eyes when she\\'s in love. Still, I\\'ll give Emily Mortimer an award just for having to act with that spotlight in her eyes (I wonder . did they use contacts?)<br /><br />And lastly, fourth warning sign: no on-screen female character is \"Mrs.\" She\\'s either \"Miss\" or \"Lady.\"<br /><br />When all was said and done, I still couldn\\'t tell you who was pursuing whom and why. I couldn\\'t even tell you what was said and done.<br /><br />To sum up: they all live through World War II without anything happening to them at all.<br /><br />OK, at the end, L.L. finds she\\'s lost her parents to the Japanese prison camps and baby sis comes home catatonic. Meanwhile (there\\'s always a \"meanwhile,\") some young guy L.L. had a crush on (when, I don\\'t know) comes home from some wartime tough spot and is found living on the street by Lady of the Manor (must be some street if SHE\\'s going to find him there.) Both war casualties are whisked away to recover at Nancherrow (SOMEBODY has to be \"whisked away\" SOMEWHERE in these romance stories!)<br /><br />Great drama.',\n",
       "       b'The film is based on a genuine 1950s novel.<br /><br />Journalist Colin McInnes wrote a set of three \"London novels\": \"Absolute Beginners\", \"City of Spades\" and \"Mr Love and Justice\". I have read all three. The first two are excellent. The last, perhaps an experiment that did not come off. But McInnes\\'s work is highly acclaimed; and rightly so. This musical is the novelist\\'s ultimate nightmare - to see the fruits of one\\'s mind being turned into a glitzy, badly-acted, soporific one-dimensional apology of a film that says it captures the spirit of 1950s London, and does nothing of the sort.<br /><br />Thank goodness Colin McInnes wasn\\'t alive to witness it.',\n",
       "       b'I really love the sexy action and sci-fi films of the sixties and its because of the actress\\'s that appeared in them. They found the sexiest women to be in these films and it didn\\'t matter if they could act (Remember \"Candy\"?). The reason I was disappointed by this film was because it wasn\\'t nostalgic enough. The story here has a European sci-fi film called \"Dragonfly\" being made and the director is fired. So the producers decide to let a young aspiring filmmaker (Jeremy Davies) to complete the picture. They\\'re is one real beautiful woman in the film who plays Dragonfly but she\\'s barely in it. Film is written and directed by Roman Coppola who uses some of his fathers exploits from his early days and puts it into the script. I wish the film could have been an homage to those early films. They could have lots of cameos by actors who appeared in them. There is one actor in this film who was popular from the sixties and its John Phillip Law (Barbarella). Gerard Depardieu, Giancarlo Giannini and Dean Stockwell appear as well. I guess I\\'m going to have to continue waiting for a director to make a good homage to the films of the sixties. If any are reading this, \"Make it as sexy as you can\"! I\\'ll be waiting!',\n",
       "       b'Sure, this one isn\\'t really a blockbuster, nor does it target such a position. \"Dieter\" is the first name of a quite popular German musician, who is either loved or hated for his kind of acting and thats exactly what this movie is about. It is based on the autobiography \"Dieter Bohlen\" wrote a few years ago but isn\\'t meant to be accurate on that. The movie is filled with some sexual offensive content (at least for American standard) which is either amusing (not for the other \"actors\" of course) or dumb - it depends on your individual kind of humor or on you being a \"Bohlen\"-Fan or not. Technically speaking there isn\\'t much to criticize. Speaking of me I find this movie to be an OK-movie.'],\n",
       "      dtype=object)>"
      ]
     },
     "execution_count": 6,
     "metadata": {},
     "output_type": "execute_result"
    }
   ],
   "source": [
    "train_examples_batch"
   ]
  },
  {
   "cell_type": "code",
   "execution_count": 7,
   "metadata": {},
   "outputs": [
    {
     "data": {
      "text/plain": [
       "<tf.Tensor: shape=(3, 50), dtype=float32, numpy=\n",
       "array([[ 0.5423195 , -0.0119017 ,  0.06337538,  0.06862972, -0.16776837,\n",
       "        -0.10581174,  0.16865303, -0.04998824, -0.31148055,  0.07910346,\n",
       "         0.15442263,  0.01488662,  0.03930153,  0.19772711, -0.12215476,\n",
       "        -0.04120981, -0.2704109 , -0.21922152,  0.26517662, -0.80739075,\n",
       "         0.25833532, -0.3100421 ,  0.28683215,  0.1943387 , -0.29036492,\n",
       "         0.03862849, -0.7844411 , -0.0479324 ,  0.4110299 , -0.36388892,\n",
       "        -0.58034706,  0.30269456,  0.3630897 , -0.15227164, -0.44391504,\n",
       "         0.19462997,  0.19528408,  0.05666234,  0.2890704 , -0.28468323,\n",
       "        -0.00531206,  0.0571938 , -0.3201318 , -0.04418665, -0.08550783,\n",
       "        -0.55847436, -0.23336391, -0.20782952, -0.03543064, -0.17533456],\n",
       "       [ 0.56338924, -0.12339553, -0.10862679,  0.7753425 , -0.07667089,\n",
       "        -0.15752277,  0.01872335, -0.08169781, -0.3521876 ,  0.4637341 ,\n",
       "        -0.08492756,  0.07166859, -0.00670817,  0.12686075, -0.19326553,\n",
       "        -0.52626437, -0.3295823 ,  0.14394785,  0.09043556, -0.5417555 ,\n",
       "         0.02468163, -0.15456742,  0.68333143,  0.09068331, -0.45327246,\n",
       "         0.23180096, -0.8615696 ,  0.34480393,  0.12838456, -0.58759046,\n",
       "        -0.4071231 ,  0.23061076,  0.48426893, -0.27128142, -0.5380916 ,\n",
       "         0.47016326,  0.22572741, -0.00830663,  0.2846242 , -0.304985  ,\n",
       "         0.04400365,  0.25025874,  0.14867121,  0.40717036, -0.15422426,\n",
       "        -0.06878027, -0.40825695, -0.3149215 ,  0.09283665, -0.20183425],\n",
       "       [ 0.7456154 ,  0.21256861,  0.14400336,  0.5233862 ,  0.11032254,\n",
       "         0.00902788, -0.3667802 , -0.08938274, -0.24165542,  0.33384594,\n",
       "        -0.11194605, -0.01460047, -0.0071645 ,  0.19562712,  0.00685216,\n",
       "        -0.24886718, -0.42796347,  0.18620004, -0.05241098, -0.66462487,\n",
       "         0.13449019, -0.22205497,  0.08633006,  0.43685386,  0.2972681 ,\n",
       "         0.36140734, -0.7196889 ,  0.05291241, -0.14316116, -0.1573394 ,\n",
       "        -0.15056328, -0.05988009, -0.08178931, -0.15569411, -0.09303783,\n",
       "        -0.18971172,  0.07620788, -0.02541647, -0.27134508, -0.3392682 ,\n",
       "        -0.10296468, -0.27275252, -0.34078008,  0.20083304, -0.26644835,\n",
       "         0.00655449, -0.05141488, -0.04261917, -0.45413622,  0.20023568]],\n",
       "      dtype=float32)>"
      ]
     },
     "execution_count": 7,
     "metadata": {},
     "output_type": "execute_result"
    }
   ],
   "source": [
    "embedding = 'https://tfhub.dev/google/nnlm-en-dim50/2'\n",
    "\n",
    "hub_layer = hub.KerasLayer(embedding, input_shape=[],\n",
    "                        dtype=tf.string, trainable=True)\n",
    "hub_layer(train_examples_batch[:3])\n"
   ]
  },
  {
   "cell_type": "code",
   "execution_count": 9,
   "metadata": {},
   "outputs": [
    {
     "name": "stdout",
     "output_type": "stream",
     "text": [
      "Model: \"sequential_1\"\n",
      "_________________________________________________________________\n",
      "Layer (type)                 Output Shape              Param #   \n",
      "=================================================================\n",
      "keras_layer (KerasLayer)     (None, 50)                48190600  \n",
      "_________________________________________________________________\n",
      "dense_2 (Dense)              (None, 16)                816       \n",
      "_________________________________________________________________\n",
      "dense_3 (Dense)              (None, 1)                 17        \n",
      "=================================================================\n",
      "Total params: 48,191,433\n",
      "Trainable params: 48,191,433\n",
      "Non-trainable params: 0\n",
      "_________________________________________________________________\n"
     ]
    }
   ],
   "source": [
    "model = tf.keras.Sequential()\n",
    "model.add(hub_layer)\n",
    "model.add(tf.keras.layers.Dense(16, activation='relu'))\n",
    "model.add(tf.keras.layers.Dense(1))\n",
    "\n",
    "model.summary()\n",
    "\n",
    "model.compile(optimizer='adam',loss=tf.keras.losses.BinaryCrossentropy(from_logits=True),\n",
    "            metrics=['accuracy'])\n"
   ]
  },
  {
   "cell_type": "code",
   "execution_count": null,
   "metadata": {},
   "outputs": [
    {
     "name": "stdout",
     "output_type": "stream",
     "text": [
      "Epoch 1/100\n",
      "30/30 [==============================] - 21s 676ms/step - loss: 0.6825 - accuracy: 0.5118 - val_loss: 0.6016 - val_accuracy: 0.5899\n",
      "Epoch 2/100\n",
      "30/30 [==============================] - 21s 677ms/step - loss: 0.5615 - accuracy: 0.6563 - val_loss: 0.4868 - val_accuracy: 0.7453\n",
      "Epoch 3/100\n",
      "30/30 [==============================] - 21s 702ms/step - loss: 0.4256 - accuracy: 0.8065 - val_loss: 0.3900 - val_accuracy: 0.8322\n",
      "Epoch 4/100\n",
      "30/30 [==============================] - 21s 715ms/step - loss: 0.2986 - accuracy: 0.8854 - val_loss: 0.3374 - val_accuracy: 0.8520\n",
      "Epoch 5/100\n",
      "30/30 [==============================] - 22s 719ms/step - loss: 0.2164 - accuracy: 0.9262 - val_loss: 0.3131 - val_accuracy: 0.8623\n",
      "Epoch 6/100\n",
      "30/30 [==============================] - 21s 710ms/step - loss: 0.1541 - accuracy: 0.9501 - val_loss: 0.3056 - val_accuracy: 0.8717\n",
      "Epoch 7/100\n",
      "30/30 [==============================] - 21s 691ms/step - loss: 0.1102 - accuracy: 0.9698 - val_loss: 0.3110 - val_accuracy: 0.8631\n",
      "Epoch 8/100\n",
      "30/30 [==============================] - 20s 684ms/step - loss: 0.0819 - accuracy: 0.9791 - val_loss: 0.3152 - val_accuracy: 0.8705\n",
      "Epoch 9/100\n",
      "30/30 [==============================] - 19s 639ms/step - loss: 0.0598 - accuracy: 0.9874 - val_loss: 0.3267 - val_accuracy: 0.8704\n",
      "Epoch 10/100\n",
      "30/30 [==============================] - 19s 645ms/step - loss: 0.0412 - accuracy: 0.9943 - val_loss: 0.3414 - val_accuracy: 0.8708\n",
      "Epoch 11/100\n",
      "30/30 [==============================] - 20s 672ms/step - loss: 0.0291 - accuracy: 0.9975 - val_loss: 0.3549 - val_accuracy: 0.8686\n",
      "Epoch 12/100\n",
      "30/30 [==============================] - 19s 637ms/step - loss: 0.0209 - accuracy: 0.9990 - val_loss: 0.3694 - val_accuracy: 0.8680\n",
      "Epoch 13/100\n",
      "30/30 [==============================] - 19s 628ms/step - loss: 0.0162 - accuracy: 0.9996 - val_loss: 0.3841 - val_accuracy: 0.8640\n",
      "Epoch 14/100\n",
      "30/30 [==============================] - 22s 754ms/step - loss: 0.0123 - accuracy: 0.9998 - val_loss: 0.3973 - val_accuracy: 0.8668\n",
      "Epoch 15/100\n",
      "30/30 [==============================] - 20s 668ms/step - loss: 0.0100 - accuracy: 0.9998 - val_loss: 0.4103 - val_accuracy: 0.8663\n",
      "Epoch 16/100\n",
      "30/30 [==============================] - 22s 719ms/step - loss: 0.0075 - accuracy: 0.9999 - val_loss: 0.4225 - val_accuracy: 0.8671\n",
      "Epoch 17/100\n",
      "30/30 [==============================] - 21s 701ms/step - loss: 0.0059 - accuracy: 1.0000 - val_loss: 0.4335 - val_accuracy: 0.8655\n",
      "Epoch 18/100\n",
      "30/30 [==============================] - 21s 699ms/step - loss: 0.0052 - accuracy: 0.9999 - val_loss: 0.4440 - val_accuracy: 0.8642\n",
      "Epoch 19/100\n",
      "30/30 [==============================] - 22s 720ms/step - loss: 0.0043 - accuracy: 1.0000 - val_loss: 0.4544 - val_accuracy: 0.8650\n",
      "Epoch 20/100\n",
      "30/30 [==============================] - 21s 697ms/step - loss: 0.0037 - accuracy: 1.0000 - val_loss: 0.4639 - val_accuracy: 0.8644\n",
      "Epoch 21/100\n",
      "30/30 [==============================] - 21s 678ms/step - loss: 0.0031 - accuracy: 1.0000 - val_loss: 0.4719 - val_accuracy: 0.8637\n",
      "Epoch 22/100\n",
      "30/30 [==============================] - 21s 691ms/step - loss: 0.0027 - accuracy: 1.0000 - val_loss: 0.4809 - val_accuracy: 0.8630\n",
      "Epoch 23/100\n",
      "30/30 [==============================] - 21s 690ms/step - loss: 0.0024 - accuracy: 1.0000 - val_loss: 0.4894 - val_accuracy: 0.8637\n",
      "Epoch 24/100\n",
      "30/30 [==============================] - 20s 676ms/step - loss: 0.0021 - accuracy: 1.0000 - val_loss: 0.4965 - val_accuracy: 0.8629\n",
      "Epoch 25/100\n",
      "30/30 [==============================] - 22s 722ms/step - loss: 0.0018 - accuracy: 1.0000 - val_loss: 0.5037 - val_accuracy: 0.8628\n",
      "Epoch 26/100\n",
      "30/30 [==============================] - 21s 706ms/step - loss: 0.0017 - accuracy: 1.0000 - val_loss: 0.5104 - val_accuracy: 0.8626\n",
      "Epoch 27/100\n",
      "30/30 [==============================] - 19s 637ms/step - loss: 0.0015 - accuracy: 1.0000 - val_loss: 0.5165 - val_accuracy: 0.8623\n",
      "Epoch 28/100\n",
      "30/30 [==============================] - 19s 633ms/step - loss: 0.0013 - accuracy: 1.0000 - val_loss: 0.5226 - val_accuracy: 0.8622\n",
      "Epoch 29/100\n",
      "30/30 [==============================] - 22s 722ms/step - loss: 0.0012 - accuracy: 1.0000 - val_loss: 0.5285 - val_accuracy: 0.8622\n",
      "Epoch 30/100\n",
      "30/30 [==============================] - 21s 715ms/step - loss: 0.0011 - accuracy: 1.0000 - val_loss: 0.5345 - val_accuracy: 0.8629\n",
      "Epoch 31/100\n",
      "30/30 [==============================] - 22s 716ms/step - loss: 0.0010 - accuracy: 1.0000 - val_loss: 0.5400 - val_accuracy: 0.8628\n",
      "Epoch 32/100\n",
      "30/30 [==============================] - 19s 650ms/step - loss: 9.2652e-04 - accuracy: 1.0000 - val_loss: 0.5452 - val_accuracy: 0.8622\n",
      "Epoch 33/100\n",
      "30/30 [==============================] - 19s 638ms/step - loss: 8.6679e-04 - accuracy: 1.0000 - val_loss: 0.5516 - val_accuracy: 0.8627\n",
      "Epoch 34/100\n",
      "30/30 [==============================] - 19s 642ms/step - loss: 8.1139e-04 - accuracy: 1.0000 - val_loss: 0.5556 - val_accuracy: 0.8626\n",
      "Epoch 35/100\n",
      "30/30 [==============================] - 19s 634ms/step - loss: 7.6424e-04 - accuracy: 1.0000 - val_loss: 0.5603 - val_accuracy: 0.8621\n",
      "Epoch 36/100\n",
      "30/30 [==============================] - 20s 657ms/step - loss: 6.8442e-04 - accuracy: 1.0000 - val_loss: 0.5650 - val_accuracy: 0.8624\n",
      "Epoch 37/100\n",
      "30/30 [==============================] - 19s 643ms/step - loss: 6.6898e-04 - accuracy: 1.0000 - val_loss: 0.5697 - val_accuracy: 0.8627\n",
      "Epoch 38/100\n",
      "30/30 [==============================] - 19s 638ms/step - loss: 5.9452e-04 - accuracy: 1.0000 - val_loss: 0.5740 - val_accuracy: 0.8624\n",
      "Epoch 39/100\n",
      "30/30 [==============================] - 19s 639ms/step - loss: 5.7469e-04 - accuracy: 1.0000 - val_loss: 0.5782 - val_accuracy: 0.8622\n",
      "Epoch 40/100\n",
      "30/30 [==============================] - 20s 685ms/step - loss: 5.2916e-04 - accuracy: 1.0000 - val_loss: 0.5824 - val_accuracy: 0.8621\n",
      "Epoch 41/100\n",
      "30/30 [==============================] - 20s 676ms/step - loss: 5.0021e-04 - accuracy: 1.0000 - val_loss: 0.5866 - val_accuracy: 0.8620\n",
      "Epoch 42/100\n",
      "30/30 [==============================] - 20s 678ms/step - loss: 4.5173e-04 - accuracy: 1.0000 - val_loss: 0.5907 - val_accuracy: 0.8623\n",
      "Epoch 43/100\n",
      "30/30 [==============================] - 21s 693ms/step - loss: 4.4097e-04 - accuracy: 1.0000 - val_loss: 0.5945 - val_accuracy: 0.8618\n",
      "Epoch 44/100\n",
      "30/30 [==============================] - 19s 640ms/step - loss: 4.3535e-04 - accuracy: 1.0000 - val_loss: 0.5985 - val_accuracy: 0.8615\n",
      "Epoch 45/100\n",
      "30/30 [==============================] - 20s 652ms/step - loss: 3.8625e-04 - accuracy: 1.0000 - val_loss: 0.6024 - val_accuracy: 0.8621\n",
      "Epoch 46/100\n",
      "30/30 [==============================] - 22s 730ms/step - loss: 3.7952e-04 - accuracy: 1.0000 - val_loss: 0.6059 - val_accuracy: 0.8614\n",
      "Epoch 47/100\n",
      "30/30 [==============================] - 22s 751ms/step - loss: 3.5370e-04 - accuracy: 1.0000 - val_loss: 0.6096 - val_accuracy: 0.8617\n",
      "Epoch 48/100\n",
      "30/30 [==============================] - 21s 688ms/step - loss: 3.3754e-04 - accuracy: 1.0000 - val_loss: 0.6132 - val_accuracy: 0.8619\n",
      "Epoch 49/100\n",
      "30/30 [==============================] - 20s 675ms/step - loss: 3.1604e-04 - accuracy: 1.0000 - val_loss: 0.6168 - val_accuracy: 0.8619\n",
      "Epoch 50/100\n",
      "30/30 [==============================] - 20s 656ms/step - loss: 3.0509e-04 - accuracy: 1.0000 - val_loss: 0.6199 - val_accuracy: 0.8612\n",
      "Epoch 51/100\n",
      "30/30 [==============================] - 19s 634ms/step - loss: 2.9023e-04 - accuracy: 1.0000 - val_loss: 0.6235 - val_accuracy: 0.8619\n",
      "Epoch 52/100\n",
      "30/30 [==============================] - 19s 638ms/step - loss: 2.7395e-04 - accuracy: 1.0000 - val_loss: 0.6267 - val_accuracy: 0.8614\n",
      "Epoch 53/100\n",
      "30/30 [==============================] - 20s 683ms/step - loss: 2.6406e-04 - accuracy: 1.0000 - val_loss: 0.6299 - val_accuracy: 0.8613\n",
      "Epoch 54/100\n",
      "30/30 [==============================] - 20s 667ms/step - loss: 2.4424e-04 - accuracy: 1.0000 - val_loss: 0.6331 - val_accuracy: 0.8616\n",
      "Epoch 55/100\n",
      "30/30 [==============================] - 23s 776ms/step - loss: 2.4192e-04 - accuracy: 1.0000 - val_loss: 0.6361 - val_accuracy: 0.8611\n",
      "Epoch 56/100\n",
      "30/30 [==============================] - 20s 683ms/step - loss: 2.2893e-04 - accuracy: 1.0000 - val_loss: 0.6392 - val_accuracy: 0.8608\n",
      "Epoch 57/100\n",
      "30/30 [==============================] - 20s 655ms/step - loss: 2.1753e-04 - accuracy: 1.0000 - val_loss: 0.6423 - val_accuracy: 0.8613\n",
      "Epoch 58/100\n",
      "30/30 [==============================] - 21s 713ms/step - loss: 2.0673e-04 - accuracy: 1.0000 - val_loss: 0.6453 - val_accuracy: 0.8609\n",
      "Epoch 59/100\n",
      "30/30 [==============================] - 21s 714ms/step - loss: 2.0375e-04 - accuracy: 1.0000 - val_loss: 0.6481 - val_accuracy: 0.8609\n",
      "Epoch 60/100\n",
      "30/30 [==============================] - 19s 633ms/step - loss: 1.9464e-04 - accuracy: 1.0000 - val_loss: 0.6511 - val_accuracy: 0.8612\n",
      "Epoch 61/100\n",
      "30/30 [==============================] - 19s 627ms/step - loss: 1.8616e-04 - accuracy: 1.0000 - val_loss: 0.6540 - val_accuracy: 0.8613\n",
      "Epoch 62/100\n",
      "30/30 [==============================] - 19s 628ms/step - loss: 1.7256e-04 - accuracy: 1.0000 - val_loss: 0.6567 - val_accuracy: 0.8612\n",
      "Epoch 63/100\n",
      "30/30 [==============================] - 20s 668ms/step - loss: 1.7431e-04 - accuracy: 1.0000 - val_loss: 0.6593 - val_accuracy: 0.8607\n",
      "Epoch 64/100\n",
      "30/30 [==============================] - 23s 777ms/step - loss: 1.6372e-04 - accuracy: 1.0000 - val_loss: 0.6623 - val_accuracy: 0.8612\n",
      "Epoch 65/100\n",
      "30/30 [==============================] - 20s 665ms/step - loss: 1.5571e-04 - accuracy: 1.0000 - val_loss: 0.6648 - val_accuracy: 0.8608\n",
      "Epoch 66/100\n",
      "30/30 [==============================] - 19s 649ms/step - loss: 1.5265e-04 - accuracy: 1.0000 - val_loss: 0.6675 - val_accuracy: 0.8610\n",
      "Epoch 67/100\n",
      "30/30 [==============================] - 19s 646ms/step - loss: 1.4416e-04 - accuracy: 1.0000 - val_loss: 0.6701 - val_accuracy: 0.8607\n",
      "Epoch 68/100\n",
      "30/30 [==============================] - 19s 639ms/step - loss: 1.3816e-04 - accuracy: 1.0000 - val_loss: 0.6727 - val_accuracy: 0.8606\n",
      "Epoch 69/100\n",
      "30/30 [==============================] - 21s 702ms/step - loss: 1.3486e-04 - accuracy: 1.0000 - val_loss: 0.6753 - val_accuracy: 0.8607\n",
      "Epoch 70/100\n",
      "30/30 [==============================] - 19s 634ms/step - loss: 1.3139e-04 - accuracy: 1.0000 - val_loss: 0.6778 - val_accuracy: 0.8608\n",
      "Epoch 71/100\n",
      "21/30 [====================>.........] - ETA: 5s - loss: 1.2630e-04 - accuracy: 1.0000"
     ]
    }
   ],
   "source": [
    "history = model.fit(train_data.shuffle(10000).batch(512),\n",
    "                    epochs=100,\n",
    "                    validation_data=validation_data.batch(512),\n",
    "                    verbose=1)\n"
   ]
  },
  {
   "cell_type": "code",
   "execution_count": null,
   "metadata": {},
   "outputs": [],
   "source": [
    "results = model.evaluate(test_data.batch(512), verbose=2)\n",
    "\n",
    "for name, value in zip(model.matrics_names, results):\n",
    "    print(\"%s: %.3f\" % (name, value))\n"
   ]
  }
 ],
 "metadata": {
  "kernelspec": {
   "display_name": "Python 3",
   "language": "python",
   "name": "python3"
  },
  "language_info": {
   "codemirror_mode": {
    "name": "ipython",
    "version": 3
   },
   "file_extension": ".py",
   "mimetype": "text/x-python",
   "name": "python",
   "nbconvert_exporter": "python",
   "pygments_lexer": "ipython3",
   "version": "3.8.5"
  }
 },
 "nbformat": 4,
 "nbformat_minor": 4
}
