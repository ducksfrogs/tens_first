{
 "cells": [
  {
   "cell_type": "code",
   "execution_count": 1,
   "metadata": {},
   "outputs": [],
   "source": [
    "from keras import layers\n",
    "from keras import models\n",
    "import tensorflow as tf\n"
   ]
  },
  {
   "cell_type": "code",
   "execution_count": 2,
   "metadata": {},
   "outputs": [],
   "source": [
    "model = models.Sequential()\n",
    "model.add(layers.Conv2D(32, (3,3), activation='relu',\n",
    "                        input_shape=(150, 150, 3)))\n",
    "model.add(layers.MaxPooling2D((2,2)))\n",
    "model.add(layers.Conv2D(64, (3,3), activation='relu'))\n",
    "model.add(layers.MaxPooling2D((2,2)))\n",
    "model.add(layers.Conv2D(128, (3,3), activation='relu'))\n",
    "model.add(layers.MaxPooling2D((2,2)))\n",
    "model.add(layers.Conv2D(128, (3,3), activation='relu'))\n",
    "model.add(layers.MaxPooling2D((2,2)))\n",
    "model.add(layers.Flatten())\n",
    "model.add(layers.Dense(512, activation='relu'))\n",
    "model.add(layers.Dense(1, activation='sigmoid'))\n"
   ]
  },
  {
   "cell_type": "code",
   "execution_count": 3,
   "metadata": {},
   "outputs": [
    {
     "name": "stdout",
     "output_type": "stream",
     "text": [
      "Model: \"sequential\"\n",
      "_________________________________________________________________\n",
      "Layer (type)                 Output Shape              Param #   \n",
      "=================================================================\n",
      "conv2d (Conv2D)              (None, 148, 148, 32)      896       \n",
      "_________________________________________________________________\n",
      "max_pooling2d (MaxPooling2D) (None, 74, 74, 32)        0         \n",
      "_________________________________________________________________\n",
      "conv2d_1 (Conv2D)            (None, 72, 72, 64)        18496     \n",
      "_________________________________________________________________\n",
      "max_pooling2d_1 (MaxPooling2 (None, 36, 36, 64)        0         \n",
      "_________________________________________________________________\n",
      "conv2d_2 (Conv2D)            (None, 34, 34, 128)       73856     \n",
      "_________________________________________________________________\n",
      "max_pooling2d_2 (MaxPooling2 (None, 17, 17, 128)       0         \n",
      "_________________________________________________________________\n",
      "conv2d_3 (Conv2D)            (None, 15, 15, 128)       147584    \n",
      "_________________________________________________________________\n",
      "max_pooling2d_3 (MaxPooling2 (None, 7, 7, 128)         0         \n",
      "_________________________________________________________________\n",
      "flatten (Flatten)            (None, 6272)              0         \n",
      "_________________________________________________________________\n",
      "dense (Dense)                (None, 512)               3211776   \n",
      "_________________________________________________________________\n",
      "dense_1 (Dense)              (None, 1)                 513       \n",
      "=================================================================\n",
      "Total params: 3,453,121\n",
      "Trainable params: 3,453,121\n",
      "Non-trainable params: 0\n",
      "_________________________________________________________________\n"
     ]
    }
   ],
   "source": [
    "model.summary()"
   ]
  },
  {
   "cell_type": "code",
   "execution_count": 4,
   "metadata": {},
   "outputs": [],
   "source": [
    "from keras import optimizers\n",
    "\n",
    "model.compile(loss='binary_crossentropy',\n",
    "              optimizer=optimizers.RMSprop(lr=1e-4),metrics=['acc'])\n"
   ]
  },
  {
   "cell_type": "code",
   "execution_count": 5,
   "metadata": {},
   "outputs": [
    {
     "name": "stdout",
     "output_type": "stream",
     "text": [
      "Found 2000 images belonging to 2 classes.\n",
      "Found 1000 images belonging to 2 classes.\n"
     ]
    }
   ],
   "source": [
    "from keras.preprocessing.image import ImageDataGenerator\n",
    "\n",
    "\n",
    "train_datagen = ImageDataGenerator(rescale=1./255)\n",
    "test_datagen = ImageDataGenerator(rescale=1./255)\n",
    "\n",
    "train_dir = '../../input/cats_and_dogs_small/train'\n",
    "validation_dir = '../../input/cats_and_dogs_small/validation'\n",
    "\n",
    "train_generator = train_datagen.flow_from_directory(\n",
    "    train_dir,\n",
    "    target_size=(150, 150),\n",
    "    batch_size=20,\n",
    "    class_mode='binary'\n",
    ")\n",
    "\n",
    "validation_generator = test_datagen.flow_from_directory(\n",
    "    validation_dir,\n",
    "    target_size=(150, 150),\n",
    "    batch_size=20,\n",
    "    class_mode='binary'\n",
    ")\n"
   ]
  },
  {
   "cell_type": "code",
   "execution_count": 6,
   "metadata": {},
   "outputs": [
    {
     "name": "stdout",
     "output_type": "stream",
     "text": [
      "data batch size: (20, 150, 150, 3)\n",
      "labels batch shape: (20,)\n"
     ]
    }
   ],
   "source": [
    "for data_batch, label_batch in train_generator:\n",
    "    print('data batch size:', data_batch.shape)\n",
    "    print('labels batch shape:', label_batch.shape)\n",
    "    break\n"
   ]
  },
  {
   "cell_type": "code",
   "execution_count": 7,
   "metadata": {},
   "outputs": [
    {
     "name": "stdout",
     "output_type": "stream",
     "text": [
      "WARNING:tensorflow:From <ipython-input-7-95960359b5db>:3: Model.fit_generator (from tensorflow.python.keras.engine.training) is deprecated and will be removed in a future version.\n",
      "Instructions for updating:\n",
      "Please use Model.fit, which supports generators.\n",
      "Epoch 1/30\n",
      "100/100 [==============================] - 12s 119ms/step - loss: 0.6894 - acc: 0.5465 - val_loss: 0.7694 - val_acc: 0.2460\n",
      "Epoch 2/30\n",
      "100/100 [==============================] - 8s 77ms/step - loss: 0.6512 - acc: 0.6215 - val_loss: 0.8882 - val_acc: 0.2690\n",
      "Epoch 3/30\n",
      "100/100 [==============================] - 8s 76ms/step - loss: 0.6011 - acc: 0.6805 - val_loss: 0.7237 - val_acc: 0.5790\n",
      "Epoch 4/30\n",
      "100/100 [==============================] - 8s 76ms/step - loss: 0.5601 - acc: 0.7185 - val_loss: 0.9444 - val_acc: 0.4530\n",
      "Epoch 5/30\n",
      "100/100 [==============================] - 8s 75ms/step - loss: 0.5385 - acc: 0.7315 - val_loss: 1.3177 - val_acc: 0.2490\n",
      "Epoch 6/30\n",
      "100/100 [==============================] - 8s 76ms/step - loss: 0.5213 - acc: 0.7445 - val_loss: 1.1008 - val_acc: 0.3890\n",
      "Epoch 7/30\n",
      "100/100 [==============================] - 8s 75ms/step - loss: 0.4876 - acc: 0.7575 - val_loss: 1.0228 - val_acc: 0.5200\n",
      "Epoch 8/30\n",
      "100/100 [==============================] - 7s 75ms/step - loss: 0.4612 - acc: 0.7775 - val_loss: 0.8589 - val_acc: 0.6080\n",
      "Epoch 9/30\n",
      "100/100 [==============================] - 8s 78ms/step - loss: 0.4468 - acc: 0.7855 - val_loss: 1.0225 - val_acc: 0.5360\n",
      "Epoch 10/30\n",
      "100/100 [==============================] - 8s 75ms/step - loss: 0.4197 - acc: 0.8125 - val_loss: 1.4498 - val_acc: 0.3990\n",
      "Epoch 11/30\n",
      "100/100 [==============================] - 8s 76ms/step - loss: 0.3980 - acc: 0.8290 - val_loss: 1.0095 - val_acc: 0.5500\n",
      "Epoch 12/30\n",
      "100/100 [==============================] - 8s 75ms/step - loss: 0.3604 - acc: 0.8400 - val_loss: 1.2728 - val_acc: 0.5060\n",
      "Epoch 13/30\n",
      "100/100 [==============================] - 8s 76ms/step - loss: 0.3489 - acc: 0.8490 - val_loss: 1.5391 - val_acc: 0.3920\n",
      "Epoch 14/30\n",
      "100/100 [==============================] - 8s 77ms/step - loss: 0.3241 - acc: 0.8590 - val_loss: 1.0699 - val_acc: 0.6070\n",
      "Epoch 15/30\n",
      "100/100 [==============================] - 8s 76ms/step - loss: 0.3008 - acc: 0.8745 - val_loss: 1.2685 - val_acc: 0.5470\n",
      "Epoch 16/30\n",
      "100/100 [==============================] - 8s 76ms/step - loss: 0.2823 - acc: 0.8840 - val_loss: 1.8033 - val_acc: 0.4080\n",
      "Epoch 17/30\n",
      "100/100 [==============================] - 8s 76ms/step - loss: 0.2569 - acc: 0.8970 - val_loss: 1.4297 - val_acc: 0.5290\n",
      "Epoch 18/30\n",
      "100/100 [==============================] - 8s 77ms/step - loss: 0.2308 - acc: 0.9150 - val_loss: 1.3345 - val_acc: 0.5940\n",
      "Epoch 19/30\n",
      "100/100 [==============================] - 8s 76ms/step - loss: 0.2191 - acc: 0.9110 - val_loss: 1.7673 - val_acc: 0.4630\n",
      "Epoch 20/30\n",
      "100/100 [==============================] - 8s 76ms/step - loss: 0.1947 - acc: 0.9330 - val_loss: 1.1819 - val_acc: 0.6760\n",
      "Epoch 21/30\n",
      "100/100 [==============================] - 8s 76ms/step - loss: 0.1799 - acc: 0.9385 - val_loss: 1.5408 - val_acc: 0.5450\n",
      "Epoch 22/30\n",
      "100/100 [==============================] - 8s 76ms/step - loss: 0.1599 - acc: 0.9490 - val_loss: 2.5828 - val_acc: 0.3700\n",
      "Epoch 23/30\n",
      "100/100 [==============================] - 8s 75ms/step - loss: 0.1401 - acc: 0.9560 - val_loss: 2.0792 - val_acc: 0.4660\n",
      "Epoch 24/30\n",
      "100/100 [==============================] - 8s 77ms/step - loss: 0.1243 - acc: 0.9610 - val_loss: 2.7448 - val_acc: 0.3780\n",
      "Epoch 25/30\n",
      "100/100 [==============================] - 8s 76ms/step - loss: 0.1097 - acc: 0.9665 - val_loss: 2.6190 - val_acc: 0.4060\n",
      "Epoch 26/30\n",
      "100/100 [==============================] - 8s 76ms/step - loss: 0.0956 - acc: 0.9695 - val_loss: 2.7604 - val_acc: 0.4370\n",
      "Epoch 27/30\n",
      "100/100 [==============================] - 8s 76ms/step - loss: 0.0865 - acc: 0.9705 - val_loss: 1.6864 - val_acc: 0.6240\n",
      "Epoch 28/30\n",
      "100/100 [==============================] - 8s 75ms/step - loss: 0.0722 - acc: 0.9805 - val_loss: 2.0723 - val_acc: 0.5570\n",
      "Epoch 29/30\n",
      "100/100 [==============================] - 8s 76ms/step - loss: 0.0585 - acc: 0.9855 - val_loss: 2.5242 - val_acc: 0.5040\n",
      "Epoch 30/30\n",
      "100/100 [==============================] - 8s 76ms/step - loss: 0.0554 - acc: 0.9835 - val_loss: 3.2592 - val_acc: 0.4380\n"
     ]
    }
   ],
   "source": [
    "history = model.fit_generator(train_generator, steps_per_epoch=100,\n",
    "                              epochs=30, validation_data=validation_generator,\n",
    "                              validation_steps=50)\n"
   ]
  },
  {
   "cell_type": "code",
   "execution_count": 8,
   "metadata": {},
   "outputs": [
    {
     "data": {
      "text/plain": [
       "<tensorflow.python.keras.callbacks.History at 0x7f8368440f10>"
      ]
     },
     "execution_count": 8,
     "metadata": {},
     "output_type": "execute_result"
    }
   ],
   "source": [
    "history"
   ]
  },
  {
   "cell_type": "code",
   "execution_count": 10,
   "metadata": {},
   "outputs": [
    {
     "data": {
      "text/plain": [
       "{'loss': [0.6894469261169434,\n",
       "  0.6512455940246582,\n",
       "  0.6010559797286987,\n",
       "  0.5600624680519104,\n",
       "  0.5384685397148132,\n",
       "  0.5213269591331482,\n",
       "  0.487648069858551,\n",
       "  0.4611509442329407,\n",
       "  0.4467852711677551,\n",
       "  0.4196784496307373,\n",
       "  0.3979777991771698,\n",
       "  0.3603575825691223,\n",
       "  0.3488762676715851,\n",
       "  0.32405465841293335,\n",
       "  0.300810843706131,\n",
       "  0.2823368012905121,\n",
       "  0.25685200095176697,\n",
       "  0.23080848157405853,\n",
       "  0.21913254261016846,\n",
       "  0.19469855725765228,\n",
       "  0.17993271350860596,\n",
       "  0.1598513424396515,\n",
       "  0.14014747738838196,\n",
       "  0.12427210062742233,\n",
       "  0.10967160016298294,\n",
       "  0.09561140090227127,\n",
       "  0.0865008756518364,\n",
       "  0.07216749340295792,\n",
       "  0.058487098664045334,\n",
       "  0.05541302263736725],\n",
       " 'acc': [0.546500027179718,\n",
       "  0.6215000152587891,\n",
       "  0.6804999709129333,\n",
       "  0.718500018119812,\n",
       "  0.7315000295639038,\n",
       "  0.7444999814033508,\n",
       "  0.7574999928474426,\n",
       "  0.7774999737739563,\n",
       "  0.7854999899864197,\n",
       "  0.8125,\n",
       "  0.8289999961853027,\n",
       "  0.8399999737739563,\n",
       "  0.8489999771118164,\n",
       "  0.859000027179718,\n",
       "  0.8744999766349792,\n",
       "  0.8840000033378601,\n",
       "  0.8970000147819519,\n",
       "  0.9150000214576721,\n",
       "  0.9110000133514404,\n",
       "  0.9330000281333923,\n",
       "  0.9384999871253967,\n",
       "  0.9490000009536743,\n",
       "  0.9559999704360962,\n",
       "  0.9610000252723694,\n",
       "  0.9664999842643738,\n",
       "  0.9695000052452087,\n",
       "  0.9704999923706055,\n",
       "  0.9804999828338623,\n",
       "  0.9854999780654907,\n",
       "  0.9835000038146973],\n",
       " 'val_loss': [0.7693989276885986,\n",
       "  0.8882108926773071,\n",
       "  0.7237485647201538,\n",
       "  0.9444062113761902,\n",
       "  1.317702054977417,\n",
       "  1.1008328199386597,\n",
       "  1.0227618217468262,\n",
       "  0.8589246869087219,\n",
       "  1.0224888324737549,\n",
       "  1.4497650861740112,\n",
       "  1.0094921588897705,\n",
       "  1.2727693319320679,\n",
       "  1.5391371250152588,\n",
       "  1.0698580741882324,\n",
       "  1.268489122390747,\n",
       "  1.8032759428024292,\n",
       "  1.429747223854065,\n",
       "  1.3344686031341553,\n",
       "  1.767330288887024,\n",
       "  1.1818569898605347,\n",
       "  1.5408201217651367,\n",
       "  2.58284330368042,\n",
       "  2.0791549682617188,\n",
       "  2.7447803020477295,\n",
       "  2.6190078258514404,\n",
       "  2.76035475730896,\n",
       "  1.6863658428192139,\n",
       "  2.0722944736480713,\n",
       "  2.5241682529449463,\n",
       "  3.2591605186462402],\n",
       " 'val_acc': [0.2460000067949295,\n",
       "  0.26899999380111694,\n",
       "  0.5789999961853027,\n",
       "  0.453000009059906,\n",
       "  0.24899999797344208,\n",
       "  0.3889999985694885,\n",
       "  0.5199999809265137,\n",
       "  0.6079999804496765,\n",
       "  0.5360000133514404,\n",
       "  0.39899998903274536,\n",
       "  0.550000011920929,\n",
       "  0.5059999823570251,\n",
       "  0.3919999897480011,\n",
       "  0.6069999933242798,\n",
       "  0.546999990940094,\n",
       "  0.40799999237060547,\n",
       "  0.5289999842643738,\n",
       "  0.593999981880188,\n",
       "  0.46299999952316284,\n",
       "  0.6759999990463257,\n",
       "  0.5450000166893005,\n",
       "  0.3700000047683716,\n",
       "  0.4659999907016754,\n",
       "  0.3779999911785126,\n",
       "  0.4059999883174896,\n",
       "  0.43700000643730164,\n",
       "  0.6240000128746033,\n",
       "  0.5569999814033508,\n",
       "  0.5040000081062317,\n",
       "  0.43799999356269836]}"
      ]
     },
     "execution_count": 10,
     "metadata": {},
     "output_type": "execute_result"
    }
   ],
   "source": [
    "history.history"
   ]
  },
  {
   "cell_type": "code",
   "execution_count": null,
   "metadata": {},
   "outputs": [],
   "source": []
  }
 ],
 "metadata": {
  "kernelspec": {
   "display_name": "Python 3",
   "language": "python",
   "name": "python3"
  },
  "language_info": {
   "codemirror_mode": {
    "name": "ipython",
    "version": 3
   },
   "file_extension": ".py",
   "mimetype": "text/x-python",
   "name": "python",
   "nbconvert_exporter": "python",
   "pygments_lexer": "ipython3",
   "version": "3.7.9"
  }
 },
 "nbformat": 4,
 "nbformat_minor": 4
}
