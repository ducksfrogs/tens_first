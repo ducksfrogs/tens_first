{
 "cells": [
  {
   "cell_type": "code",
   "execution_count": 1,
   "metadata": {},
   "outputs": [
    {
     "name": "stderr",
     "output_type": "stream",
     "text": [
      "/home/ma/.bin/anaconda3/envs/tensor/lib/python3.7/site-packages/tensorflow/python/keras/datasets/imdb.py:155: VisibleDeprecationWarning: Creating an ndarray from ragged nested sequences (which is a list-or-tuple of lists-or-tuples-or ndarrays with different lengths or shapes) is deprecated. If you meant to do this, you must specify 'dtype=object' when creating the ndarray\n",
      "  x_train, y_train = np.array(xs[:idx]), np.array(labels[:idx])\n",
      "/home/ma/.bin/anaconda3/envs/tensor/lib/python3.7/site-packages/tensorflow/python/keras/datasets/imdb.py:156: VisibleDeprecationWarning: Creating an ndarray from ragged nested sequences (which is a list-or-tuple of lists-or-tuples-or ndarrays with different lengths or shapes) is deprecated. If you meant to do this, you must specify 'dtype=object' when creating the ndarray\n",
      "  x_test, y_test = np.array(xs[idx:]), np.array(labels[idx:])\n"
     ]
    }
   ],
   "source": [
    "from keras.datasets import imdb\n",
    "\n",
    "(train_data, train_labels), (test_data, test_labels) = imdb.load_data(num_words=10000)\n"
   ]
  },
  {
   "cell_type": "code",
   "execution_count": 2,
   "metadata": {},
   "outputs": [],
   "source": [
    "import numpy as np\n",
    "\n",
    "def vectorize_sequences(sequences, dimension=10000):\n",
    "\n",
    "    results = np.zeros((len(sequences), dimension))\n",
    "\n",
    "    for i, sequence in enumerate(sequences):\n",
    "        results[i, sequence] = 1.\n",
    "    return results\n",
    "\n",
    "\n",
    "X_train = vectorize_sequences(train_data)\n",
    "X_test = vectorize_sequences(test_data)\n",
    "\n",
    "y_train = np.asarray(train_labels).astype('float32')\n",
    "y_test = np.asarray(test_labels).astype('float32')\n",
    "\n"
   ]
  },
  {
   "cell_type": "code",
   "execution_count": 3,
   "metadata": {},
   "outputs": [
    {
     "data": {
      "text/plain": [
       "(25000, 10000)"
      ]
     },
     "execution_count": 3,
     "metadata": {},
     "output_type": "execute_result"
    }
   ],
   "source": [
    "X_train.shape"
   ]
  },
  {
   "cell_type": "code",
   "execution_count": 4,
   "metadata": {},
   "outputs": [
    {
     "data": {
      "text/plain": [
       "(25000,)"
      ]
     },
     "execution_count": 4,
     "metadata": {},
     "output_type": "execute_result"
    }
   ],
   "source": [
    "train_data.shape"
   ]
  },
  {
   "cell_type": "code",
   "execution_count": 5,
   "metadata": {},
   "outputs": [],
   "source": [
    "from keras import models\n",
    "from keras import layers\n",
    "from keras import optimizers\n",
    "from keras import losses\n",
    "from keras import metrics\n",
    "\n",
    "\n",
    "model = models.Sequential()\n",
    "model.add(layers.Dense(16, activation='relu', input_shape=(10000,)))\n",
    "model.add(layers.Dense(16, activation='relu'))\n",
    "model.add(layers.Dense(1, activation='sigmoid'))\n",
    "\n",
    "model.compile(optimizer=optimizers.RMSprop(lr=0.001),\n",
    "            loss=losses.binary_crossentropy,metrics=[metrics.binary_accuracy])\n"
   ]
  },
  {
   "cell_type": "code",
   "execution_count": 6,
   "metadata": {},
   "outputs": [
    {
     "name": "stdout",
     "output_type": "stream",
     "text": [
      "Epoch 1/20\n",
      "30/30 [==============================] - 1s 32ms/step - loss: 0.5608 - acc: 0.7587 - val_loss: 0.4485 - val_acc: 0.8085\n",
      "Epoch 2/20\n",
      "30/30 [==============================] - 1s 31ms/step - loss: 0.3368 - acc: 0.8965 - val_loss: 0.3357 - val_acc: 0.8653\n",
      "Epoch 3/20\n",
      "30/30 [==============================] - 1s 30ms/step - loss: 0.2399 - acc: 0.9225 - val_loss: 0.3000 - val_acc: 0.8799\n",
      "Epoch 4/20\n",
      "30/30 [==============================] - 1s 25ms/step - loss: 0.1842 - acc: 0.9417 - val_loss: 0.2751 - val_acc: 0.8932\n",
      "Epoch 5/20\n",
      "30/30 [==============================] - 1s 25ms/step - loss: 0.1507 - acc: 0.9517 - val_loss: 0.2837 - val_acc: 0.8873\n",
      "Epoch 6/20\n",
      "30/30 [==============================] - 1s 28ms/step - loss: 0.1246 - acc: 0.9621 - val_loss: 0.3113 - val_acc: 0.8817\n",
      "Epoch 7/20\n",
      "30/30 [==============================] - 1s 28ms/step - loss: 0.1017 - acc: 0.9693 - val_loss: 0.3193 - val_acc: 0.8826\n",
      "Epoch 8/20\n",
      "30/30 [==============================] - 1s 26ms/step - loss: 0.0840 - acc: 0.9749 - val_loss: 0.3609 - val_acc: 0.8694\n",
      "Epoch 9/20\n",
      "30/30 [==============================] - 1s 27ms/step - loss: 0.0680 - acc: 0.9823 - val_loss: 0.3747 - val_acc: 0.8766\n",
      "Epoch 10/20\n",
      "30/30 [==============================] - 1s 27ms/step - loss: 0.0585 - acc: 0.9847 - val_loss: 0.3784 - val_acc: 0.8803\n",
      "Epoch 11/20\n",
      "30/30 [==============================] - 1s 37ms/step - loss: 0.0441 - acc: 0.9905 - val_loss: 0.4166 - val_acc: 0.8701\n",
      "Epoch 12/20\n",
      "30/30 [==============================] - 1s 25ms/step - loss: 0.0372 - acc: 0.9919 - val_loss: 0.4356 - val_acc: 0.8783\n",
      "Epoch 13/20\n",
      "30/30 [==============================] - 1s 25ms/step - loss: 0.0291 - acc: 0.9946 - val_loss: 0.4558 - val_acc: 0.8736\n",
      "Epoch 14/20\n",
      "30/30 [==============================] - 1s 25ms/step - loss: 0.0247 - acc: 0.9956 - val_loss: 0.4853 - val_acc: 0.8721\n",
      "Epoch 15/20\n",
      "30/30 [==============================] - 1s 25ms/step - loss: 0.0185 - acc: 0.9969 - val_loss: 0.5186 - val_acc: 0.8712\n",
      "Epoch 16/20\n",
      "30/30 [==============================] - 1s 27ms/step - loss: 0.0148 - acc: 0.9981 - val_loss: 0.5562 - val_acc: 0.8736\n",
      "Epoch 17/20\n",
      "30/30 [==============================] - 1s 25ms/step - loss: 0.0102 - acc: 0.9993 - val_loss: 0.5894 - val_acc: 0.8674\n",
      "Epoch 18/20\n",
      "30/30 [==============================] - 1s 31ms/step - loss: 0.0093 - acc: 0.9990 - val_loss: 0.6374 - val_acc: 0.8691\n",
      "Epoch 19/20\n",
      "30/30 [==============================] - 1s 44ms/step - loss: 0.0060 - acc: 0.9995 - val_loss: 0.6741 - val_acc: 0.8716\n",
      "Epoch 20/20\n",
      "30/30 [==============================] - 5s 160ms/step - loss: 0.0057 - acc: 0.9990 - val_loss: 0.7729 - val_acc: 0.8674\n"
     ]
    }
   ],
   "source": [
    "x_val = X_train[:10000]\n",
    "partial_X_train = X_train[10000:]\n",
    "\n",
    "y_val = y_train[:10000]\n",
    "partial_y_train = y_train[10000:]\n",
    "\n",
    "model.compile(optimizer='rmsprop', loss='binary_crossentropy',\n",
    "                metrics=['acc'])\n",
    "\n",
    "\n",
    "history = model.fit(partial_X_train,\n",
    "                    partial_y_train, epochs=20,\n",
    "                    batch_size=512,\n",
    "                    validation_data=(x_val, y_val))\n"
   ]
  },
  {
   "cell_type": "code",
   "execution_count": 7,
   "metadata": {},
   "outputs": [],
   "source": [
    "history_dict = history.history"
   ]
  },
  {
   "cell_type": "code",
   "execution_count": 8,
   "metadata": {},
   "outputs": [
    {
     "data": {
      "text/plain": [
       "{'loss': [0.5608147978782654,\n",
       "  0.3367699682712555,\n",
       "  0.23994001746177673,\n",
       "  0.18417462706565857,\n",
       "  0.15074169635772705,\n",
       "  0.12455439567565918,\n",
       "  0.10171597450971603,\n",
       "  0.08399799466133118,\n",
       "  0.06796383112668991,\n",
       "  0.05847129225730896,\n",
       "  0.044110994786024094,\n",
       "  0.03715435042977333,\n",
       "  0.02912112884223461,\n",
       "  0.024676484987139702,\n",
       "  0.018479134887456894,\n",
       "  0.014837942086160183,\n",
       "  0.010199391283094883,\n",
       "  0.009297989308834076,\n",
       "  0.005953595042228699,\n",
       "  0.005661539733409882],\n",
       " 'acc': [0.7586666941642761,\n",
       "  0.8965333104133606,\n",
       "  0.9224666953086853,\n",
       "  0.9417333602905273,\n",
       "  0.9517333507537842,\n",
       "  0.9621333479881287,\n",
       "  0.9693333506584167,\n",
       "  0.9749333262443542,\n",
       "  0.9823333621025085,\n",
       "  0.984666645526886,\n",
       "  0.9904666543006897,\n",
       "  0.9918666481971741,\n",
       "  0.9945999979972839,\n",
       "  0.9955999851226807,\n",
       "  0.9969333410263062,\n",
       "  0.9981333613395691,\n",
       "  0.9992666840553284,\n",
       "  0.9990000128746033,\n",
       "  0.9994666576385498,\n",
       "  0.9990000128746033],\n",
       " 'val_loss': [0.4485130310058594,\n",
       "  0.33569449186325073,\n",
       "  0.2999846935272217,\n",
       "  0.27507567405700684,\n",
       "  0.2837156355381012,\n",
       "  0.3112601339817047,\n",
       "  0.3192686140537262,\n",
       "  0.36090269684791565,\n",
       "  0.3747490346431732,\n",
       "  0.37843385338783264,\n",
       "  0.4165794551372528,\n",
       "  0.4355974495410919,\n",
       "  0.45583271980285645,\n",
       "  0.4853442907333374,\n",
       "  0.518600344657898,\n",
       "  0.5562043190002441,\n",
       "  0.5894336700439453,\n",
       "  0.6373643279075623,\n",
       "  0.6741252541542053,\n",
       "  0.7728607654571533],\n",
       " 'val_acc': [0.8084999918937683,\n",
       "  0.8652999997138977,\n",
       "  0.8798999786376953,\n",
       "  0.8931999802589417,\n",
       "  0.8873000144958496,\n",
       "  0.8816999793052673,\n",
       "  0.8826000094413757,\n",
       "  0.8694000244140625,\n",
       "  0.8766000270843506,\n",
       "  0.880299985408783,\n",
       "  0.8701000213623047,\n",
       "  0.8783000111579895,\n",
       "  0.8736000061035156,\n",
       "  0.8720999956130981,\n",
       "  0.8712000250816345,\n",
       "  0.8736000061035156,\n",
       "  0.8673999905586243,\n",
       "  0.8690999746322632,\n",
       "  0.8715999722480774,\n",
       "  0.8673999905586243]}"
      ]
     },
     "execution_count": 8,
     "metadata": {},
     "output_type": "execute_result"
    }
   ],
   "source": [
    "history_dict"
   ]
  },
  {
   "cell_type": "code",
   "execution_count": 9,
   "metadata": {},
   "outputs": [
    {
     "data": {
      "text/plain": [
       "dict_keys(['loss', 'acc', 'val_loss', 'val_acc'])"
      ]
     },
     "execution_count": 9,
     "metadata": {},
     "output_type": "execute_result"
    }
   ],
   "source": [
    "history_dict.keys()"
   ]
  },
  {
   "cell_type": "code",
   "execution_count": 10,
   "metadata": {},
   "outputs": [],
   "source": [
    "import matplotlib.pyplot as plt\n"
   ]
  },
  {
   "cell_type": "code",
   "execution_count": 11,
   "metadata": {},
   "outputs": [
    {
     "data": {
      "text/plain": [
       "<matplotlib.legend.Legend at 0x7f369ba59950>"
      ]
     },
     "execution_count": 11,
     "metadata": {},
     "output_type": "execute_result"
    },
    {
     "data": {
      "image/png": "[encoded data removed]",
      "text/plain": [
       "<Figure size 432x288 with 1 Axes>"
      ]
     },
     "metadata": {
      "needs_background": "light"
     },
     "output_type": "display_data"
    }
   ],
   "source": [
    "loss_val = history_dict['loss']\n",
    "val_loss_values = history_dict['val_loss']\n",
    "\n",
    "epochs = range(1, len(loss_val) + 1)\n",
    "\n",
    "plt.plot(epochs, loss_val, 'bo', label='Training loss')\n",
    "plt.plot(epochs, val_loss_values, 'b', label='Validation loss')\n",
    "plt.xlabel('Epochs')\n",
    "plt.title(\"Training and validation  loss\")\n",
    "plt.ylabel('loss')\n",
    "plt.legend()\n"
   ]
  },
  {
   "cell_type": "code",
   "execution_count": 12,
   "metadata": {},
   "outputs": [
    {
     "data": {
      "text/plain": [
       "<matplotlib.legend.Legend at 0x7f36a1175510>"
      ]
     },
     "execution_count": 12,
     "metadata": {},
     "output_type": "execute_result"
    },
    {
     "data": {
      "image/png": "[encoded data removed]",
      "text/plain": [
       "<Figure size 432x288 with 1 Axes>"
      ]
     },
     "metadata": {
      "needs_background": "light"
     },
     "output_type": "display_data"
    }
   ],
   "source": [
    "acc = history_dict['acc']\n",
    "val_acc = history_dict['val_acc']\n",
    "\n",
    "plt.plot(epochs, acc, 'bo', label='Training acc')\n",
    "plt.plot(epochs, val_acc, 'b', label='Validation acc')\n",
    "plt.xlabel('Epochs')\n",
    "plt.ylabel('Accuracy')\n",
    "plt.legend()\n"
   ]
  },
  {
   "cell_type": "code",
   "execution_count": null,
   "metadata": {},
   "outputs": [],
   "source": []
  }
 ],
 "metadata": {
  "kernelspec": {
   "display_name": "Python 3",
   "language": "python",
   "name": "python3"
  },
  "language_info": {
   "codemirror_mode": {
    "name": "ipython",
    "version": 3
   },
   "file_extension": ".py",
   "mimetype": "text/x-python",
   "name": "python",
   "nbconvert_exporter": "python",
   "pygments_lexer": "ipython3",
   "version": "3.7.9"
  }
 },
 "nbformat": 4,
 "nbformat_minor": 4
}
