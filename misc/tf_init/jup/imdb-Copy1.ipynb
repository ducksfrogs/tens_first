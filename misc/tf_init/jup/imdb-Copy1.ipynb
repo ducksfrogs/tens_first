{
 "cells": [
  {
   "cell_type": "code",
   "execution_count": 1,
   "metadata": {},
   "outputs": [
    {
     "name": "stdout",
     "output_type": "stream",
     "text": [
      "2.2.0\n"
     ]
    }
   ],
   "source": [
    "import tensorflow as tf\n",
    "\n",
    "from tensorflow import keras\n",
    "import numpy as np\n",
    "print(tf.__version__)\n"
   ]
  },
  {
   "cell_type": "code",
   "execution_count": 2,
   "metadata": {},
   "outputs": [
    {
     "name": "stdout",
     "output_type": "stream",
     "text": [
      "Downloading data from https://storage.googleapis.com/tensorflow/tf-keras-datasets/imdb.npz\n",
      "17465344/17464789 [==============================] - 2s 0us/step\n"
     ]
    },
    {
     "name": "stderr",
     "output_type": "stream",
     "text": [
      "/home/ma/.bin/anaconda3/envs/tensor/lib/python3.7/site-packages/tensorflow/python/keras/datasets/imdb.py:155: VisibleDeprecationWarning: Creating an ndarray from ragged nested sequences (which is a list-or-tuple of lists-or-tuples-or ndarrays with different lengths or shapes) is deprecated. If you meant to do this, you must specify 'dtype=object' when creating the ndarray\n",
      "  x_train, y_train = np.array(xs[:idx]), np.array(labels[:idx])\n",
      "/home/ma/.bin/anaconda3/envs/tensor/lib/python3.7/site-packages/tensorflow/python/keras/datasets/imdb.py:156: VisibleDeprecationWarning: Creating an ndarray from ragged nested sequences (which is a list-or-tuple of lists-or-tuples-or ndarrays with different lengths or shapes) is deprecated. If you meant to do this, you must specify 'dtype=object' when creating the ndarray\n",
      "  x_test, y_test = np.array(xs[idx:]), np.array(labels[idx:])\n"
     ]
    }
   ],
   "source": [
    "imob = keras.datasets.imdb\n",
    "\n",
    "(train_data, train_label), (test_data,test_label) = imob.load_data()"
   ]
  },
  {
   "cell_type": "code",
   "execution_count": 3,
   "metadata": {},
   "outputs": [
    {
     "name": "stdout",
     "output_type": "stream",
     "text": [
      "Training entries : 25000. Labels: 25000\n"
     ]
    }
   ],
   "source": [
    "print(\"Training entries : {}. Labels: {}\".format(len(train_data), len(test_label)))\n"
   ]
  },
  {
   "cell_type": "code",
   "execution_count": 4,
   "metadata": {},
   "outputs": [
    {
     "name": "stdout",
     "output_type": "stream",
     "text": [
      "[1, 14, 22, 16, 43, 530, 973, 1622, 1385, 65, 458, 4468, 66, 3941, 4, 173, 36, 256, 5, 25, 100, 43, 838, 112, 50, 670, 22665, 9, 35, 480, 284, 5, 150, 4, 172, 112, 167, 21631, 336, 385, 39, 4, 172, 4536, 1111, 17, 546, 38, 13, 447, 4, 192, 50, 16, 6, 147, 2025, 19, 14, 22, 4, 1920, 4613, 469, 4, 22, 71, 87, 12, 16, 43, 530, 38, 76, 15, 13, 1247, 4, 22, 17, 515, 17, 12, 16, 626, 18, 19193, 5, 62, 386, 12, 8, 316, 8, 106, 5, 4, 2223, 5244, 16, 480, 66, 3785, 33, 4, 130, 12, 16, 38, 619, 5, 25, 124, 51, 36, 135, 48, 25, 1415, 33, 6, 22, 12, 215, 28, 77, 52, 5, 14, 407, 16, 82, 10311, 8, 4, 107, 117, 5952, 15, 256, 4, 31050, 7, 3766, 5, 723, 36, 71, 43, 530, 476, 26, 400, 317, 46, 7, 4, 12118, 1029, 13, 104, 88, 4, 381, 15, 297, 98, 32, 2071, 56, 26, 141, 6, 194, 7486, 18, 4, 226, 22, 21, 134, 476, 26, 480, 5, 144, 30, 5535, 18, 51, 36, 28, 224, 92, 25, 104, 4, 226, 65, 16, 38, 1334, 88, 12, 16, 283, 5, 16, 4472, 113, 103, 32, 15, 16, 5345, 19, 178, 32]\n"
     ]
    }
   ],
   "source": [
    "print(train_data[0])"
   ]
  },
  {
   "cell_type": "code",
   "execution_count": 5,
   "metadata": {},
   "outputs": [
    {
     "data": {
      "text/plain": [
       "(218, 189)"
      ]
     },
     "execution_count": 5,
     "metadata": {},
     "output_type": "execute_result"
    }
   ],
   "source": [
    "len(train_data[0]), len(train_data[1])"
   ]
  },
  {
   "cell_type": "code",
   "execution_count": 6,
   "metadata": {},
   "outputs": [
    {
     "name": "stdout",
     "output_type": "stream",
     "text": [
      "[1, 194, 1153, 194, 8255, 78, 228, 5, 6, 1463, 4369, 5012, 134, 26, 4, 715, 8, 118, 1634, 14, 394, 20, 13, 119, 954, 189, 102, 5, 207, 110, 3103, 21, 14, 69, 188, 8, 30, 23, 7, 4, 249, 126, 93, 4, 114, 9, 2300, 1523, 5, 647, 4, 116, 9, 35, 8163, 4, 229, 9, 340, 1322, 4, 118, 9, 4, 130, 4901, 19, 4, 1002, 5, 89, 29, 952, 46, 37, 4, 455, 9, 45, 43, 38, 1543, 1905, 398, 4, 1649, 26, 6853, 5, 163, 11, 3215, 10156, 4, 1153, 9, 194, 775, 7, 8255, 11596, 349, 2637, 148, 605, 15358, 8003, 15, 123, 125, 68, 23141, 6853, 15, 349, 165, 4362, 98, 5, 4, 228, 9, 43, 36893, 1157, 15, 299, 120, 5, 120, 174, 11, 220, 175, 136, 50, 9, 4373, 228, 8255, 5, 25249, 656, 245, 2350, 5, 4, 9837, 131, 152, 491, 18, 46151, 32, 7464, 1212, 14, 9, 6, 371, 78, 22, 625, 64, 1382, 9, 8, 168, 145, 23, 4, 1690, 15, 16, 4, 1355, 5, 28, 6, 52, 154, 462, 33, 89, 78, 285, 16, 145, 95]\n"
     ]
    }
   ],
   "source": [
    "print(train_data[1])"
   ]
  },
  {
   "cell_type": "code",
   "execution_count": 7,
   "metadata": {},
   "outputs": [
    {
     "name": "stdout",
     "output_type": "stream",
     "text": [
      "Downloading data from https://storage.googleapis.com/tensorflow/tf-keras-datasets/imdb_word_index.json\n",
      "1646592/1641221 [==============================] - 0s 0us/step\n"
     ]
    }
   ],
   "source": [
    "word_index = imob.get_word_index()\n"
   ]
  },
  {
   "cell_type": "code",
   "execution_count": 8,
   "metadata": {},
   "outputs": [],
   "source": [
    "word_index = {k:(v+3) for k, v in word_index.items()}\n"
   ]
  },
  {
   "cell_type": "code",
   "execution_count": 9,
   "metadata": {},
   "outputs": [],
   "source": [
    "word_index[\"<PAD>\"] = 0\n",
    "word_index[\"<START>\"] = 1\n",
    "word_index[\"<UNK>\"] = 2\n",
    "word_index[\"<UNSED>\"] = 3\n"
   ]
  },
  {
   "cell_type": "code",
   "execution_count": 10,
   "metadata": {},
   "outputs": [],
   "source": [
    "reverse_word_index = dict([(value, key) for (key, value) in word_index.items()])\n",
    "\n",
    "def decode_review(text):\n",
    "    return ' '.join([reverse_word_index.get(i, '?') for i in text])\n"
   ]
  },
  {
   "cell_type": "code",
   "execution_count": 11,
   "metadata": {},
   "outputs": [
    {
     "data": {
      "text/plain": [
       "\"<START> this film was just brilliant casting location scenery story direction everyone's really suited the part they played and you could just imagine being there robert redford's is an amazing actor and now the same being director norman's father came from the same scottish island as myself so i loved the fact there was a real connection with this film the witty remarks throughout the film were great it was just brilliant so much that i bought the film as soon as it was released for retail and would recommend it to everyone to watch and the fly fishing was amazing really cried at the end it was so sad and you know what they say if you cry at a film it must have been good and this definitely was also congratulations to the two little boy's that played the part's of norman and paul they were just brilliant children are often left out of the praising list i think because the stars that play them all grown up are such a big profile for the whole film but these children are amazing and should be praised for what they have done don't you think the whole story was so lovely because it was true and was someone's life after all that was shared with us all\""
      ]
     },
     "execution_count": 11,
     "metadata": {},
     "output_type": "execute_result"
    }
   ],
   "source": [
    "decode_review(train_data[0])"
   ]
  },
  {
   "cell_type": "code",
   "execution_count": 12,
   "metadata": {},
   "outputs": [],
   "source": [
    "train_data = keras.preprocessing.sequence.pad_sequences(train_data,\n",
    "                                                value=word_index['<PAD>'],\n",
    "                                                padding='post',\n",
    "                                                maxlen=256)\n",
    "\n",
    "test_data = keras.preprocessing.sequence.pad_sequences(test_data,\n",
    "                                                    value=word_index['<PAD>'], \n",
    "                                                    padding='post', maxlen=256)\n"
   ]
  },
  {
   "cell_type": "code",
   "execution_count": 13,
   "metadata": {},
   "outputs": [
    {
     "data": {
      "text/plain": [
       "(256, 256)"
      ]
     },
     "execution_count": 13,
     "metadata": {},
     "output_type": "execute_result"
    }
   ],
   "source": [
    "len(train_data[0]), len(train_data[1])"
   ]
  },
  {
   "cell_type": "code",
   "execution_count": 14,
   "metadata": {},
   "outputs": [
    {
     "name": "stdout",
     "output_type": "stream",
     "text": [
      "[    1    14    22    16    43   530   973  1622  1385    65   458  4468\n",
      "    66  3941     4   173    36   256     5    25   100    43   838   112\n",
      "    50   670 22665     9    35   480   284     5   150     4   172   112\n",
      "   167 21631   336   385    39     4   172  4536  1111    17   546    38\n",
      "    13   447     4   192    50    16     6   147  2025    19    14    22\n",
      "     4  1920  4613   469     4    22    71    87    12    16    43   530\n",
      "    38    76    15    13  1247     4    22    17   515    17    12    16\n",
      "   626    18 19193     5    62   386    12     8   316     8   106     5\n",
      "     4  2223  5244    16   480    66  3785    33     4   130    12    16\n",
      "    38   619     5    25   124    51    36   135    48    25  1415    33\n",
      "     6    22    12   215    28    77    52     5    14   407    16    82\n",
      " 10311     8     4   107   117  5952    15   256     4 31050     7  3766\n",
      "     5   723    36    71    43   530   476    26   400   317    46     7\n",
      "     4 12118  1029    13   104    88     4   381    15   297    98    32\n",
      "  2071    56    26   141     6   194  7486    18     4   226    22    21\n",
      "   134   476    26   480     5   144    30  5535    18    51    36    28\n",
      "   224    92    25   104     4   226    65    16    38  1334    88    12\n",
      "    16   283     5    16  4472   113   103    32    15    16  5345    19\n",
      "   178    32     0     0     0     0     0     0     0     0     0     0\n",
      "     0     0     0     0     0     0     0     0     0     0     0     0\n",
      "     0     0     0     0     0     0     0     0     0     0     0     0\n",
      "     0     0     0     0]\n"
     ]
    }
   ],
   "source": [
    "print(train_data[0])"
   ]
  },
  {
   "cell_type": "code",
   "execution_count": 27,
   "metadata": {},
   "outputs": [
    {
     "name": "stdout",
     "output_type": "stream",
     "text": [
      "Model: \"sequential_3\"\n",
      "_________________________________________________________________\n",
      "Layer (type)                 Output Shape              Param #   \n",
      "=================================================================\n",
      "embedding_3 (Embedding)      (None, None, 16)          1600000   \n",
      "_________________________________________________________________\n",
      "global_average_pooling1d_3 ( (None, 16)                0         \n",
      "_________________________________________________________________\n",
      "dense_6 (Dense)              (None, 16)                272       \n",
      "_________________________________________________________________\n",
      "dense_7 (Dense)              (None, 1)                 17        \n",
      "=================================================================\n",
      "Total params: 1,600,289\n",
      "Trainable params: 1,600,289\n",
      "Non-trainable params: 0\n",
      "_________________________________________________________________\n"
     ]
    }
   ],
   "source": [
    "vocab_size = 100000\n",
    "\n",
    "model = keras.Sequential()\n",
    "model.add(keras.layers.Embedding(vocab_size, 16))\n",
    "model.add(keras.layers.GlobalAveragePooling1D())\n",
    "model.add(keras.layers.Dense(16, activation='relu'))\n",
    "model.add(keras.layers.Dense(1, activation='sigmoid'))\n",
    "\n",
    "model.summary()\n"
   ]
  },
  {
   "cell_type": "code",
   "execution_count": 28,
   "metadata": {},
   "outputs": [],
   "source": [
    "model.compile(optimizer='adam',loss='binary_crossentropy', metrics=['accuracy'])\n"
   ]
  },
  {
   "cell_type": "code",
   "execution_count": 29,
   "metadata": {},
   "outputs": [],
   "source": [
    "\n",
    "x_val = train_data[:10000]\n",
    "partian_x_train = train_data[10000:]\n",
    "\n",
    "y_val = train_label[:10000]\n",
    "partian_y_train = train_label[10000:]\n"
   ]
  },
  {
   "cell_type": "code",
   "execution_count": 30,
   "metadata": {},
   "outputs": [
    {
     "name": "stdout",
     "output_type": "stream",
     "text": [
      "Epoch 1/40\n",
      "30/30 [==============================] - 1s 22ms/step - loss: 0.6920 - accuracy: 0.5771 - val_loss: 0.6899 - val_accuracy: 0.7443\n",
      "Epoch 2/40\n",
      "30/30 [==============================] - 1s 19ms/step - loss: 0.6858 - accuracy: 0.7700 - val_loss: 0.6814 - val_accuracy: 0.7604\n",
      "Epoch 3/40\n",
      "30/30 [==============================] - 1s 20ms/step - loss: 0.6722 - accuracy: 0.7830 - val_loss: 0.6645 - val_accuracy: 0.7747\n",
      "Epoch 4/40\n",
      "30/30 [==============================] - 1s 20ms/step - loss: 0.6474 - accuracy: 0.8016 - val_loss: 0.6370 - val_accuracy: 0.7885\n",
      "Epoch 5/40\n",
      "30/30 [==============================] - 1s 21ms/step - loss: 0.6104 - accuracy: 0.8150 - val_loss: 0.6000 - val_accuracy: 0.7985\n",
      "Epoch 6/40\n",
      "30/30 [==============================] - 1s 20ms/step - loss: 0.5630 - accuracy: 0.8314 - val_loss: 0.5561 - val_accuracy: 0.8081\n",
      "Epoch 7/40\n",
      "30/30 [==============================] - 1s 20ms/step - loss: 0.5107 - accuracy: 0.8457 - val_loss: 0.5114 - val_accuracy: 0.8208\n",
      "Epoch 8/40\n",
      "30/30 [==============================] - 1s 22ms/step - loss: 0.4583 - accuracy: 0.8651 - val_loss: 0.4690 - val_accuracy: 0.8355\n",
      "Epoch 9/40\n",
      "30/30 [==============================] - 1s 20ms/step - loss: 0.4097 - accuracy: 0.8784 - val_loss: 0.4326 - val_accuracy: 0.8445\n",
      "Epoch 10/40\n",
      "30/30 [==============================] - 1s 21ms/step - loss: 0.3667 - accuracy: 0.8934 - val_loss: 0.4014 - val_accuracy: 0.8546\n",
      "Epoch 11/40\n",
      "30/30 [==============================] - 1s 21ms/step - loss: 0.3296 - accuracy: 0.9039 - val_loss: 0.3761 - val_accuracy: 0.8623\n",
      "Epoch 12/40\n",
      "30/30 [==============================] - 1s 21ms/step - loss: 0.2980 - accuracy: 0.9123 - val_loss: 0.3567 - val_accuracy: 0.8673\n",
      "Epoch 13/40\n",
      "30/30 [==============================] - 1s 20ms/step - loss: 0.2710 - accuracy: 0.9193 - val_loss: 0.3396 - val_accuracy: 0.8720\n",
      "Epoch 14/40\n",
      "30/30 [==============================] - 1s 19ms/step - loss: 0.2475 - accuracy: 0.9248 - val_loss: 0.3276 - val_accuracy: 0.8734\n",
      "Epoch 15/40\n",
      "30/30 [==============================] - 1s 19ms/step - loss: 0.2268 - accuracy: 0.9325 - val_loss: 0.3153 - val_accuracy: 0.8782\n",
      "Epoch 16/40\n",
      "30/30 [==============================] - 1s 22ms/step - loss: 0.2082 - accuracy: 0.9393 - val_loss: 0.3072 - val_accuracy: 0.8781\n",
      "Epoch 17/40\n",
      "30/30 [==============================] - 1s 22ms/step - loss: 0.1922 - accuracy: 0.9441 - val_loss: 0.2996 - val_accuracy: 0.8813\n",
      "Epoch 18/40\n",
      "30/30 [==============================] - 1s 20ms/step - loss: 0.1773 - accuracy: 0.9499 - val_loss: 0.2938 - val_accuracy: 0.8835\n",
      "Epoch 19/40\n",
      "30/30 [==============================] - 1s 20ms/step - loss: 0.1641 - accuracy: 0.9546 - val_loss: 0.2888 - val_accuracy: 0.8839\n",
      "Epoch 20/40\n",
      "30/30 [==============================] - 1s 21ms/step - loss: 0.1525 - accuracy: 0.9594 - val_loss: 0.2853 - val_accuracy: 0.8845\n",
      "Epoch 21/40\n",
      "30/30 [==============================] - 1s 22ms/step - loss: 0.1408 - accuracy: 0.9637 - val_loss: 0.2837 - val_accuracy: 0.8862\n",
      "Epoch 22/40\n",
      "30/30 [==============================] - 1s 21ms/step - loss: 0.1304 - accuracy: 0.9676 - val_loss: 0.2802 - val_accuracy: 0.8874\n",
      "Epoch 23/40\n",
      "30/30 [==============================] - 1s 21ms/step - loss: 0.1214 - accuracy: 0.9696 - val_loss: 0.2788 - val_accuracy: 0.8866\n",
      "Epoch 24/40\n",
      "30/30 [==============================] - 1s 21ms/step - loss: 0.1129 - accuracy: 0.9731 - val_loss: 0.2769 - val_accuracy: 0.8874\n",
      "Epoch 25/40\n",
      "30/30 [==============================] - 1s 20ms/step - loss: 0.1049 - accuracy: 0.9763 - val_loss: 0.2773 - val_accuracy: 0.8874\n",
      "Epoch 26/40\n",
      "30/30 [==============================] - 1s 22ms/step - loss: 0.0976 - accuracy: 0.9790 - val_loss: 0.2767 - val_accuracy: 0.8906\n",
      "Epoch 27/40\n",
      "30/30 [==============================] - 1s 20ms/step - loss: 0.0910 - accuracy: 0.9807 - val_loss: 0.2762 - val_accuracy: 0.8886\n",
      "Epoch 28/40\n",
      "30/30 [==============================] - 1s 20ms/step - loss: 0.0853 - accuracy: 0.9821 - val_loss: 0.2781 - val_accuracy: 0.8898\n",
      "Epoch 29/40\n",
      "30/30 [==============================] - 1s 20ms/step - loss: 0.0792 - accuracy: 0.9846 - val_loss: 0.2781 - val_accuracy: 0.8892\n",
      "Epoch 30/40\n",
      "30/30 [==============================] - 1s 19ms/step - loss: 0.0741 - accuracy: 0.9857 - val_loss: 0.2793 - val_accuracy: 0.8889\n",
      "Epoch 31/40\n",
      "30/30 [==============================] - 1s 23ms/step - loss: 0.0690 - accuracy: 0.9873 - val_loss: 0.2805 - val_accuracy: 0.8888\n",
      "Epoch 32/40\n",
      "30/30 [==============================] - 1s 21ms/step - loss: 0.0648 - accuracy: 0.9883 - val_loss: 0.2810 - val_accuracy: 0.8901\n",
      "Epoch 33/40\n",
      "30/30 [==============================] - 1s 24ms/step - loss: 0.0606 - accuracy: 0.9896 - val_loss: 0.2836 - val_accuracy: 0.8881\n",
      "Epoch 34/40\n",
      "30/30 [==============================] - 1s 20ms/step - loss: 0.0570 - accuracy: 0.9902 - val_loss: 0.2843 - val_accuracy: 0.8904\n",
      "Epoch 35/40\n",
      "30/30 [==============================] - 1s 21ms/step - loss: 0.0535 - accuracy: 0.9911 - val_loss: 0.2875 - val_accuracy: 0.8870\n",
      "Epoch 36/40\n",
      "30/30 [==============================] - 1s 21ms/step - loss: 0.0499 - accuracy: 0.9920 - val_loss: 0.2884 - val_accuracy: 0.8891\n",
      "Epoch 37/40\n",
      "30/30 [==============================] - 1s 23ms/step - loss: 0.0469 - accuracy: 0.9930 - val_loss: 0.2909 - val_accuracy: 0.8884\n",
      "Epoch 38/40\n",
      "30/30 [==============================] - 1s 22ms/step - loss: 0.0439 - accuracy: 0.9936 - val_loss: 0.2933 - val_accuracy: 0.8883\n",
      "Epoch 39/40\n",
      "30/30 [==============================] - 1s 22ms/step - loss: 0.0413 - accuracy: 0.9940 - val_loss: 0.2959 - val_accuracy: 0.8879\n",
      "Epoch 40/40\n",
      "30/30 [==============================] - 1s 22ms/step - loss: 0.0390 - accuracy: 0.9944 - val_loss: 0.2981 - val_accuracy: 0.8886\n"
     ]
    }
   ],
   "source": [
    "history = model.fit(partian_x_train,\n",
    "                    partian_y_train,\n",
    "                    epochs=40,\n",
    "                    batch_size=512,\n",
    "                    validation_data=(x_val, y_val),\n",
    "                    verbose=1\n",
    "                   )\n"
   ]
  },
  {
   "cell_type": "code",
   "execution_count": 31,
   "metadata": {},
   "outputs": [
    {
     "ename": "NameError",
     "evalue": "name 'test_labels' is not defined",
     "output_type": "error",
     "traceback": [
      "\u001b[0;31m---------------------------------------------------------------------------\u001b[0m",
      "\u001b[0;31mNameError\u001b[0m                                 Traceback (most recent call last)",
      "\u001b[0;32m<ipython-input-31-26693343882e>\u001b[0m in \u001b[0;36m<module>\u001b[0;34m\u001b[0m\n\u001b[0;32m----> 1\u001b[0;31m \u001b[0mresults\u001b[0m \u001b[0;34m=\u001b[0m \u001b[0mmodel\u001b[0m\u001b[0;34m.\u001b[0m\u001b[0mevaluate\u001b[0m\u001b[0;34m(\u001b[0m\u001b[0mtest_data\u001b[0m\u001b[0;34m,\u001b[0m \u001b[0mtest_labels\u001b[0m\u001b[0;34m,\u001b[0m \u001b[0mverbose\u001b[0m\u001b[0;34m=\u001b[0m\u001b[0;36m2\u001b[0m\u001b[0;34m)\u001b[0m\u001b[0;34m\u001b[0m\u001b[0;34m\u001b[0m\u001b[0m\n\u001b[0m",
      "\u001b[0;31mNameError\u001b[0m: name 'test_labels' is not defined"
     ]
    }
   ],
   "source": [
    "results = model.evaluate(test_data, test_labels, verbose=2)\n"
   ]
  },
  {
   "cell_type": "code",
   "execution_count": null,
   "metadata": {},
   "outputs": [],
   "source": []
  }
 ],
 "metadata": {
  "kernelspec": {
   "display_name": "Python 3",
   "language": "python",
   "name": "python3"
  },
  "language_info": {
   "codemirror_mode": {
    "name": "ipython",
    "version": 3
   },
   "file_extension": ".py",
   "mimetype": "text/x-python",
   "name": "python",
   "nbconvert_exporter": "python",
   "pygments_lexer": "ipython3",
   "version": "3.7.9"
  }
 },
 "nbformat": 4,
 "nbformat_minor": 4
}
