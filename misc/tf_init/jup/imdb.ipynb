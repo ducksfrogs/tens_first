{
 "cells": [
  {
   "cell_type": "code",
   "execution_count": 1,
   "metadata": {},
   "outputs": [
    {
     "name": "stdout",
     "output_type": "stream",
     "text": [
      "2.4.1\n"
     ]
    }
   ],
   "source": [
    "import tensorflow as tf\n",
    "\n",
    "from tensorflow import keras\n",
    "import numpy as np\n",
    "print(tf.__version__)\n"
   ]
  },
  {
   "cell_type": "code",
   "execution_count": 2,
   "metadata": {},
   "outputs": [
    {
     "name": "stderr",
     "output_type": "stream",
     "text": [
      "<string>:6: VisibleDeprecationWarning: Creating an ndarray from ragged nested sequences (which is a list-or-tuple of lists-or-tuples-or ndarrays with different lengths or shapes) is deprecated. If you meant to do this, you must specify 'dtype=object' when creating the ndarray\n",
      "/home/ma/.bin/anaconda3/envs/tensor/lib/python3.7/site-packages/tensorflow/python/keras/datasets/imdb.py:159: VisibleDeprecationWarning: Creating an ndarray from ragged nested sequences (which is a list-or-tuple of lists-or-tuples-or ndarrays with different lengths or shapes) is deprecated. If you meant to do this, you must specify 'dtype=object' when creating the ndarray\n",
      "  x_train, y_train = np.array(xs[:idx]), np.array(labels[:idx])\n",
      "/home/ma/.bin/anaconda3/envs/tensor/lib/python3.7/site-packages/tensorflow/python/keras/datasets/imdb.py:160: VisibleDeprecationWarning: Creating an ndarray from ragged nested sequences (which is a list-or-tuple of lists-or-tuples-or ndarrays with different lengths or shapes) is deprecated. If you meant to do this, you must specify 'dtype=object' when creating the ndarray\n",
      "  x_test, y_test = np.array(xs[idx:]), np.array(labels[idx:])\n"
     ]
    }
   ],
   "source": [
    "imdb = keras.datasets.imdb\n",
    "\n",
    "(train_data, train_labels), (test_data, test_labels) = imdb.load_data(num_words=10000)\n"
   ]
  },
  {
   "cell_type": "code",
   "execution_count": 4,
   "metadata": {},
   "outputs": [
    {
     "name": "stdout",
     "output_type": "stream",
     "text": [
      "Training entries : 25000. Labels: 25000\n"
     ]
    }
   ],
   "source": [
    "print(\"Training entries : {}. Labels: {}\".format(len(train_data), len(test_labels)))\n"
   ]
  },
  {
   "cell_type": "code",
   "execution_count": 5,
   "metadata": {},
   "outputs": [
    {
     "name": "stdout",
     "output_type": "stream",
     "text": [
      "[1, 14, 22, 16, 43, 530, 973, 1622, 1385, 65, 458, 4468, 66, 3941, 4, 173, 36, 256, 5, 25, 100, 43, 838, 112, 50, 670, 2, 9, 35, 480, 284, 5, 150, 4, 172, 112, 167, 2, 336, 385, 39, 4, 172, 4536, 1111, 17, 546, 38, 13, 447, 4, 192, 50, 16, 6, 147, 2025, 19, 14, 22, 4, 1920, 4613, 469, 4, 22, 71, 87, 12, 16, 43, 530, 38, 76, 15, 13, 1247, 4, 22, 17, 515, 17, 12, 16, 626, 18, 2, 5, 62, 386, 12, 8, 316, 8, 106, 5, 4, 2223, 5244, 16, 480, 66, 3785, 33, 4, 130, 12, 16, 38, 619, 5, 25, 124, 51, 36, 135, 48, 25, 1415, 33, 6, 22, 12, 215, 28, 77, 52, 5, 14, 407, 16, 82, 2, 8, 4, 107, 117, 5952, 15, 256, 4, 2, 7, 3766, 5, 723, 36, 71, 43, 530, 476, 26, 400, 317, 46, 7, 4, 2, 1029, 13, 104, 88, 4, 381, 15, 297, 98, 32, 2071, 56, 26, 141, 6, 194, 7486, 18, 4, 226, 22, 21, 134, 476, 26, 480, 5, 144, 30, 5535, 18, 51, 36, 28, 224, 92, 25, 104, 4, 226, 65, 16, 38, 1334, 88, 12, 16, 283, 5, 16, 4472, 113, 103, 32, 15, 16, 5345, 19, 178, 32]\n"
     ]
    }
   ],
   "source": [
    "print(train_data[0])"
   ]
  },
  {
   "cell_type": "code",
   "execution_count": 6,
   "metadata": {},
   "outputs": [
    {
     "data": {
      "text/plain": [
       "(218, 189)"
      ]
     },
     "execution_count": 6,
     "metadata": {},
     "output_type": "execute_result"
    }
   ],
   "source": [
    "len(train_data[0]), len(train_data[1])"
   ]
  },
  {
   "cell_type": "code",
   "execution_count": 7,
   "metadata": {},
   "outputs": [
    {
     "name": "stdout",
     "output_type": "stream",
     "text": [
      "Downloading data from https://storage.googleapis.com/tensorflow/tf-keras-datasets/imdb_word_index.json\n",
      "1646592/1641221 [==============================] - 2s 1us/step\n"
     ]
    }
   ],
   "source": [
    "word_index = imdb.get_word_index()\n"
   ]
  },
  {
   "cell_type": "code",
   "execution_count": 12,
   "metadata": {},
   "outputs": [],
   "source": [
    "word_index = {k:(v+3) for k, v in word_index.items()}\n"
   ]
  },
  {
   "cell_type": "code",
   "execution_count": 13,
   "metadata": {},
   "outputs": [],
   "source": [
    "word_index[\"<PAD>\"] = 0\n",
    "word_index[\"<START>\"] = 1\n",
    "word_index[\"<UNK>\"] = 2\n",
    "word_index[\"<UNSED>\"] = 3\n"
   ]
  },
  {
   "cell_type": "code",
   "execution_count": 14,
   "metadata": {},
   "outputs": [],
   "source": [
    "reverse_word_index = dict([(value, key) for (key, value) in word_index.items()])\n",
    "\n",
    "def decode_review(text):\n",
    "    return ' '.join([reverse_word_index.get(i, '?') for i in text])\n"
   ]
  },
  {
   "cell_type": "code",
   "execution_count": 15,
   "metadata": {},
   "outputs": [
    {
     "data": {
      "text/plain": [
       "\"<START> this film was just brilliant casting location scenery story direction everyone's really suited the part they played and you could just imagine being there robert <UNK> is an amazing actor and now the same being director <UNK> father came from the same scottish island as myself so i loved the fact there was a real connection with this film the witty remarks throughout the film were great it was just brilliant so much that i bought the film as soon as it was released for <UNK> and would recommend it to everyone to watch and the fly fishing was amazing really cried at the end it was so sad and you know what they say if you cry at a film it must have been good and this definitely was also <UNK> to the two little boy's that played the <UNK> of norman and paul they were just brilliant children are often left out of the <UNK> list i think because the stars that play them all grown up are such a big profile for the whole film but these children are amazing and should be praised for what they have done don't you think the whole story was so lovely because it was true and was someone's life after all that was shared with us all\""
      ]
     },
     "execution_count": 15,
     "metadata": {},
     "output_type": "execute_result"
    }
   ],
   "source": [
    "decode_review(train_data[0])"
   ]
  },
  {
   "cell_type": "code",
   "execution_count": 16,
   "metadata": {},
   "outputs": [],
   "source": [
    "train_data = keras.preprocessing.sequence.pad_sequences(train_data,\n",
    "                                                value=word_index['<PAD>'],\n",
    "                                                padding='post',\n",
    "                                                maxlen=256)\n",
    "\n",
    "test_data = keras.preprocessing.sequence.pad_sequences(test_data,\n",
    "                                                    value=word_index['<PAD>'], \n",
    "                                                    padding='post', maxlen=256)\n"
   ]
  },
  {
   "cell_type": "code",
   "execution_count": 17,
   "metadata": {},
   "outputs": [
    {
     "data": {
      "text/plain": [
       "(256, 256)"
      ]
     },
     "execution_count": 17,
     "metadata": {},
     "output_type": "execute_result"
    }
   ],
   "source": [
    "len(train_data[0]), len(train_data[1])"
   ]
  },
  {
   "cell_type": "code",
   "execution_count": 18,
   "metadata": {},
   "outputs": [
    {
     "name": "stdout",
     "output_type": "stream",
     "text": [
      "[   1   14   22   16   43  530  973 1622 1385   65  458 4468   66 3941\n",
      "    4  173   36  256    5   25  100   43  838  112   50  670    2    9\n",
      "   35  480  284    5  150    4  172  112  167    2  336  385   39    4\n",
      "  172 4536 1111   17  546   38   13  447    4  192   50   16    6  147\n",
      " 2025   19   14   22    4 1920 4613  469    4   22   71   87   12   16\n",
      "   43  530   38   76   15   13 1247    4   22   17  515   17   12   16\n",
      "  626   18    2    5   62  386   12    8  316    8  106    5    4 2223\n",
      " 5244   16  480   66 3785   33    4  130   12   16   38  619    5   25\n",
      "  124   51   36  135   48   25 1415   33    6   22   12  215   28   77\n",
      "   52    5   14  407   16   82    2    8    4  107  117 5952   15  256\n",
      "    4    2    7 3766    5  723   36   71   43  530  476   26  400  317\n",
      "   46    7    4    2 1029   13  104   88    4  381   15  297   98   32\n",
      " 2071   56   26  141    6  194 7486   18    4  226   22   21  134  476\n",
      "   26  480    5  144   30 5535   18   51   36   28  224   92   25  104\n",
      "    4  226   65   16   38 1334   88   12   16  283    5   16 4472  113\n",
      "  103   32   15   16 5345   19  178   32    0    0    0    0    0    0\n",
      "    0    0    0    0    0    0    0    0    0    0    0    0    0    0\n",
      "    0    0    0    0    0    0    0    0    0    0    0    0    0    0\n",
      "    0    0    0    0]\n"
     ]
    }
   ],
   "source": [
    "print(train_data[0])"
   ]
  },
  {
   "cell_type": "code",
   "execution_count": 20,
   "metadata": {},
   "outputs": [
    {
     "name": "stdout",
     "output_type": "stream",
     "text": [
      "Model: \"sequential_1\"\n",
      "_________________________________________________________________\n",
      "Layer (type)                 Output Shape              Param #   \n",
      "=================================================================\n",
      "embedding_1 (Embedding)      (None, None, 16)          160000    \n",
      "_________________________________________________________________\n",
      "global_average_pooling1d_1 ( (None, 16)                0         \n",
      "_________________________________________________________________\n",
      "dense_2 (Dense)              (None, 16)                272       \n",
      "_________________________________________________________________\n",
      "dense_3 (Dense)              (None, 1)                 17        \n",
      "=================================================================\n",
      "Total params: 160,289\n",
      "Trainable params: 160,289\n",
      "Non-trainable params: 0\n",
      "_________________________________________________________________\n"
     ]
    }
   ],
   "source": [
    "vocab_size = 10000\n",
    "\n",
    "model = keras.Sequential()\n",
    "model.add(keras.layers.Embedding(vocab_size, 16))\n",
    "model.add(keras.layers.GlobalAveragePooling1D())\n",
    "model.add(keras.layers.Dense(16, activation='relu'))\n",
    "model.add(keras.layers.Dense(1, activation='sigmoid'))\n",
    "\n",
    "model.summary()\n"
   ]
  },
  {
   "cell_type": "code",
   "execution_count": 21,
   "metadata": {},
   "outputs": [],
   "source": [
    "model.compile(optimizer='adam',loss='binary_crossentropy', metrics=['accuracy'])\n"
   ]
  },
  {
   "cell_type": "code",
   "execution_count": 22,
   "metadata": {},
   "outputs": [],
   "source": [
    "\n",
    "x_val = train_data[:10000]\n",
    "partian_x_train = train_data[10000:]\n",
    "\n",
    "y_val = train_labels[:10000]\n",
    "partian_y_train = train_labels[10000:]\n"
   ]
  },
  {
   "cell_type": "code",
   "execution_count": 23,
   "metadata": {},
   "outputs": [
    {
     "name": "stdout",
     "output_type": "stream",
     "text": [
      "Epoch 1/40\n",
      "30/30 [==============================] - 2s 26ms/step - loss: 0.6925 - accuracy: 0.5196 - val_loss: 0.6894 - val_accuracy: 0.5868\n",
      "Epoch 2/40\n",
      "30/30 [==============================] - 1s 18ms/step - loss: 0.6868 - accuracy: 0.6755 - val_loss: 0.6805 - val_accuracy: 0.7419\n",
      "Epoch 3/40\n",
      "30/30 [==============================] - 1s 18ms/step - loss: 0.6755 - accuracy: 0.7517 - val_loss: 0.6644 - val_accuracy: 0.7570\n",
      "Epoch 4/40\n",
      "30/30 [==============================] - 1s 18ms/step - loss: 0.6548 - accuracy: 0.7820 - val_loss: 0.6393 - val_accuracy: 0.7587\n",
      "Epoch 5/40\n",
      "30/30 [==============================] - 1s 17ms/step - loss: 0.6239 - accuracy: 0.7852 - val_loss: 0.6047 - val_accuracy: 0.7875\n",
      "Epoch 6/40\n",
      "30/30 [==============================] - 1s 19ms/step - loss: 0.5843 - accuracy: 0.8074 - val_loss: 0.5651 - val_accuracy: 0.8051\n",
      "Epoch 7/40\n",
      "30/30 [==============================] - 1s 19ms/step - loss: 0.5392 - accuracy: 0.8271 - val_loss: 0.5232 - val_accuracy: 0.8183\n",
      "Epoch 8/40\n",
      "30/30 [==============================] - 1s 18ms/step - loss: 0.4928 - accuracy: 0.8424 - val_loss: 0.4827 - val_accuracy: 0.8335\n",
      "Epoch 9/40\n",
      "30/30 [==============================] - 1s 17ms/step - loss: 0.4506 - accuracy: 0.8609 - val_loss: 0.4467 - val_accuracy: 0.8448\n",
      "Epoch 10/40\n",
      "30/30 [==============================] - 1s 17ms/step - loss: 0.4094 - accuracy: 0.8739 - val_loss: 0.4164 - val_accuracy: 0.8528\n",
      "Epoch 11/40\n",
      "30/30 [==============================] - 1s 21ms/step - loss: 0.3753 - accuracy: 0.8812 - val_loss: 0.3906 - val_accuracy: 0.8594\n",
      "Epoch 12/40\n",
      "30/30 [==============================] - 1s 18ms/step - loss: 0.3485 - accuracy: 0.8880 - val_loss: 0.3699 - val_accuracy: 0.8637\n",
      "Epoch 13/40\n",
      "30/30 [==============================] - 1s 18ms/step - loss: 0.3217 - accuracy: 0.8907 - val_loss: 0.3527 - val_accuracy: 0.8691\n",
      "Epoch 14/40\n",
      "30/30 [==============================] - 1s 18ms/step - loss: 0.3037 - accuracy: 0.8998 - val_loss: 0.3388 - val_accuracy: 0.8725\n",
      "Epoch 15/40\n",
      "30/30 [==============================] - 1s 19ms/step - loss: 0.2794 - accuracy: 0.9057 - val_loss: 0.3282 - val_accuracy: 0.8733\n",
      "Epoch 16/40\n",
      "30/30 [==============================] - 1s 19ms/step - loss: 0.2635 - accuracy: 0.9118 - val_loss: 0.3205 - val_accuracy: 0.8733\n",
      "Epoch 17/40\n",
      "30/30 [==============================] - 1s 20ms/step - loss: 0.2491 - accuracy: 0.9153 - val_loss: 0.3120 - val_accuracy: 0.8792\n",
      "Epoch 18/40\n",
      "30/30 [==============================] - 1s 21ms/step - loss: 0.2392 - accuracy: 0.9173 - val_loss: 0.3051 - val_accuracy: 0.8813\n",
      "Epoch 19/40\n",
      "30/30 [==============================] - 1s 18ms/step - loss: 0.2261 - accuracy: 0.9220 - val_loss: 0.3003 - val_accuracy: 0.8819\n",
      "Epoch 20/40\n",
      "30/30 [==============================] - 1s 18ms/step - loss: 0.2123 - accuracy: 0.9285 - val_loss: 0.2962 - val_accuracy: 0.8832\n",
      "Epoch 21/40\n",
      "30/30 [==============================] - 1s 18ms/step - loss: 0.2041 - accuracy: 0.9302 - val_loss: 0.2938 - val_accuracy: 0.8832\n",
      "Epoch 22/40\n",
      "30/30 [==============================] - 1s 18ms/step - loss: 0.1916 - accuracy: 0.9373 - val_loss: 0.2907 - val_accuracy: 0.8834\n",
      "Epoch 23/40\n",
      "30/30 [==============================] - 1s 20ms/step - loss: 0.1875 - accuracy: 0.9379 - val_loss: 0.2887 - val_accuracy: 0.8848\n",
      "Epoch 24/40\n",
      "30/30 [==============================] - 1s 18ms/step - loss: 0.1767 - accuracy: 0.9425 - val_loss: 0.2892 - val_accuracy: 0.8847\n",
      "Epoch 25/40\n",
      "30/30 [==============================] - 1s 18ms/step - loss: 0.1658 - accuracy: 0.9477 - val_loss: 0.2870 - val_accuracy: 0.8852\n",
      "Epoch 26/40\n",
      "30/30 [==============================] - 1s 18ms/step - loss: 0.1669 - accuracy: 0.9463 - val_loss: 0.2863 - val_accuracy: 0.8856\n",
      "Epoch 27/40\n",
      "30/30 [==============================] - 1s 18ms/step - loss: 0.1543 - accuracy: 0.9532 - val_loss: 0.2860 - val_accuracy: 0.8864\n",
      "Epoch 28/40\n",
      "30/30 [==============================] - 1s 18ms/step - loss: 0.1483 - accuracy: 0.9558 - val_loss: 0.2870 - val_accuracy: 0.8864\n",
      "Epoch 29/40\n",
      "30/30 [==============================] - 1s 18ms/step - loss: 0.1476 - accuracy: 0.9552 - val_loss: 0.2873 - val_accuracy: 0.8860\n",
      "Epoch 30/40\n",
      "30/30 [==============================] - 1s 19ms/step - loss: 0.1355 - accuracy: 0.9595 - val_loss: 0.2885 - val_accuracy: 0.8858\n",
      "Epoch 31/40\n",
      "30/30 [==============================] - 1s 17ms/step - loss: 0.1320 - accuracy: 0.9622 - val_loss: 0.2894 - val_accuracy: 0.8864\n",
      "Epoch 32/40\n",
      "30/30 [==============================] - 1s 18ms/step - loss: 0.1246 - accuracy: 0.9658 - val_loss: 0.2910 - val_accuracy: 0.8864\n",
      "Epoch 33/40\n",
      "30/30 [==============================] - 1s 18ms/step - loss: 0.1204 - accuracy: 0.9676 - val_loss: 0.2930 - val_accuracy: 0.8857\n",
      "Epoch 34/40\n",
      "30/30 [==============================] - 1s 17ms/step - loss: 0.1190 - accuracy: 0.9662 - val_loss: 0.2951 - val_accuracy: 0.8862\n",
      "Epoch 35/40\n",
      "30/30 [==============================] - 1s 17ms/step - loss: 0.1120 - accuracy: 0.9711 - val_loss: 0.2973 - val_accuracy: 0.8849\n",
      "Epoch 36/40\n",
      "30/30 [==============================] - 1s 18ms/step - loss: 0.1101 - accuracy: 0.9707 - val_loss: 0.2997 - val_accuracy: 0.8846\n",
      "Epoch 37/40\n",
      "30/30 [==============================] - 1s 18ms/step - loss: 0.0996 - accuracy: 0.9754 - val_loss: 0.3029 - val_accuracy: 0.8830\n",
      "Epoch 38/40\n",
      "30/30 [==============================] - 1s 18ms/step - loss: 0.0988 - accuracy: 0.9737 - val_loss: 0.3054 - val_accuracy: 0.8835\n",
      "Epoch 39/40\n",
      "30/30 [==============================] - 1s 17ms/step - loss: 0.0981 - accuracy: 0.9747 - val_loss: 0.3082 - val_accuracy: 0.8837\n",
      "Epoch 40/40\n",
      "30/30 [==============================] - 1s 18ms/step - loss: 0.0961 - accuracy: 0.9760 - val_loss: 0.3130 - val_accuracy: 0.8808\n"
     ]
    }
   ],
   "source": [
    "history = model.fit(partian_x_train,\n",
    "                    partian_y_train,\n",
    "                    epochs=40,\n",
    "                    batch_size=512,\n",
    "                    validation_data=(x_val, y_val),\n",
    "                    verbose=1\n",
    "                   )\n"
   ]
  },
  {
   "cell_type": "code",
   "execution_count": 24,
   "metadata": {},
   "outputs": [
    {
     "name": "stdout",
     "output_type": "stream",
     "text": [
      "782/782 - 1s - loss: 0.3325 - accuracy: 0.8718\n"
     ]
    },
    {
     "data": {
      "text/plain": [
       "dict_keys(['loss', 'accuracy', 'val_loss', 'val_accuracy'])"
      ]
     },
     "execution_count": 24,
     "metadata": {},
     "output_type": "execute_result"
    }
   ],
   "source": [
    "results = model.evaluate(test_data, test_labels, verbose=2)\n",
    "\n",
    "history_dict = history.history\n",
    "history_dict.keys()\n",
    "\n"
   ]
  },
  {
   "cell_type": "code",
   "execution_count": 25,
   "metadata": {},
   "outputs": [],
   "source": [
    "import matplotlib.pyplot as plt"
   ]
  },
  {
   "cell_type": "code",
   "execution_count": 26,
   "metadata": {},
   "outputs": [
    {
     "data": {
      "image/png": "[encoded data removed]",
      "text/plain": [
       "<Figure size 432x288 with 1 Axes>"
      ]
     },
     "metadata": {
      "needs_background": "light"
     },
     "output_type": "display_data"
    }
   ],
   "source": [
    "acc = history_dict['accuracy']\n",
    "val_acc = history_dict['val_accuracy']\n",
    "loss = history_dict['loss']\n",
    "val_loss = history_dict['val_loss']\n",
    "\n",
    "epochs = range(1, len(acc) +1)\n",
    "\n",
    "plt.plot(epochs, loss, 'bo', label=\"Training loss\")\n",
    "plt.plot(epochs, val_loss, 'b', label='Validation loss')\n",
    "plt.title(\"Training and Validation loss\")\n",
    "plt.xlabel('Epochs')\n",
    "plt.ylabel(\"Loss\")\n",
    "plt.legend()\n",
    "plt.show()\n"
   ]
  },
  {
   "cell_type": "code",
   "execution_count": 27,
   "metadata": {},
   "outputs": [
    {
     "data": {
      "text/plain": [
       "<matplotlib.legend.Legend at 0x7fc666d5cfd0>"
      ]
     },
     "execution_count": 27,
     "metadata": {},
     "output_type": "execute_result"
    },
    {
     "data": {
      "image/png": "[encoded data removed]",
      "text/plain": [
       "<Figure size 432x288 with 1 Axes>"
      ]
     },
     "metadata": {
      "needs_background": "light"
     },
     "output_type": "display_data"
    }
   ],
   "source": [
    "plt.clf()\n",
    "plt.plot(epochs, acc, 'bo', label='Training acc')\n",
    "plt.plot(epochs, val_acc, 'b', label='Validation acc')\n",
    "plt.title(\"Training and validation accuracy\")\n",
    "plt.xlabel('Epochs')\n",
    "plt.ylabel(\"Accuracy\")\n",
    "plt.legend()\n"
   ]
  },
  {
   "cell_type": "code",
   "execution_count": null,
   "metadata": {},
   "outputs": [],
   "source": []
  }
 ],
 "metadata": {
  "kernelspec": {
   "display_name": "Python 3",
   "language": "python",
   "name": "python3"
  },
  "language_info": {
   "codemirror_mode": {
    "name": "ipython",
    "version": 3
   },
   "file_extension": ".py",
   "mimetype": "text/x-python",
   "name": "python",
   "nbconvert_exporter": "python",
   "pygments_lexer": "ipython3",
   "version": "3.7.9"
  }
 },
 "nbformat": 4,
 "nbformat_minor": 4
}
