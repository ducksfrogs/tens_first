{
 "cells": [
  {
   "cell_type": "code",
   "execution_count": 1,
   "metadata": {},
   "outputs": [
    {
     "name": "stdout",
     "output_type": "stream",
     "text": [
      "2.2.0\n"
     ]
    }
   ],
   "source": [
    "import tensorflow as tf\n",
    "\n",
    "from tensorflow import keras\n",
    "import numpy as np\n",
    "print(tf.__version__)\n"
   ]
  },
  {
   "cell_type": "code",
   "execution_count": 2,
   "metadata": {},
   "outputs": [
    {
     "name": "stderr",
     "output_type": "stream",
     "text": [
      "/home/ma/.bin/anaconda3/envs/tensor/lib/python3.7/site-packages/tensorflow/python/keras/datasets/imdb.py:155: VisibleDeprecationWarning: Creating an ndarray from ragged nested sequences (which is a list-or-tuple of lists-or-tuples-or ndarrays with different lengths or shapes) is deprecated. If you meant to do this, you must specify 'dtype=object' when creating the ndarray\n",
      "  x_train, y_train = np.array(xs[:idx]), np.array(labels[:idx])\n",
      "/home/ma/.bin/anaconda3/envs/tensor/lib/python3.7/site-packages/tensorflow/python/keras/datasets/imdb.py:156: VisibleDeprecationWarning: Creating an ndarray from ragged nested sequences (which is a list-or-tuple of lists-or-tuples-or ndarrays with different lengths or shapes) is deprecated. If you meant to do this, you must specify 'dtype=object' when creating the ndarray\n",
      "  x_test, y_test = np.array(xs[idx:]), np.array(labels[idx:])\n"
     ]
    }
   ],
   "source": [
    "imdb = keras.datasets.imdb\n",
    "\n",
    "(train_data, train_labels), (test_data, test_labels) = imdb.load_data()\n"
   ]
  },
  {
   "cell_type": "code",
   "execution_count": 3,
   "metadata": {},
   "outputs": [
    {
     "ename": "NameError",
     "evalue": "name 'test_label' is not defined",
     "output_type": "error",
     "traceback": [
      "\u001b[0;31m---------------------------------------------------------------------------\u001b[0m",
      "\u001b[0;31mNameError\u001b[0m                                 Traceback (most recent call last)",
      "\u001b[0;32m<ipython-input-3-f3e65cb5d259>\u001b[0m in \u001b[0;36m<module>\u001b[0;34m\u001b[0m\n\u001b[0;32m----> 1\u001b[0;31m \u001b[0mprint\u001b[0m\u001b[0;34m(\u001b[0m\u001b[0;34m\"Training entries : {}. Labels: {}\"\u001b[0m\u001b[0;34m.\u001b[0m\u001b[0mformat\u001b[0m\u001b[0;34m(\u001b[0m\u001b[0mlen\u001b[0m\u001b[0;34m(\u001b[0m\u001b[0mtrain_data\u001b[0m\u001b[0;34m)\u001b[0m\u001b[0;34m,\u001b[0m \u001b[0mlen\u001b[0m\u001b[0;34m(\u001b[0m\u001b[0mtest_label\u001b[0m\u001b[0;34m)\u001b[0m\u001b[0;34m)\u001b[0m\u001b[0;34m)\u001b[0m\u001b[0;34m\u001b[0m\u001b[0;34m\u001b[0m\u001b[0m\n\u001b[0m",
      "\u001b[0;31mNameError\u001b[0m: name 'test_label' is not defined"
     ]
    }
   ],
   "source": [
    "print(\"Training entries : {}. Labels: {}\".format(len(train_data), len(test_label)))\n"
   ]
  },
  {
   "cell_type": "code",
   "execution_count": 4,
   "metadata": {},
   "outputs": [
    {
     "name": "stdout",
     "output_type": "stream",
     "text": [
      "[1, 14, 22, 16, 43, 530, 973, 1622, 1385, 65, 458, 4468, 66, 3941, 4, 173, 36, 256, 5, 25, 100, 43, 838, 112, 50, 670, 22665, 9, 35, 480, 284, 5, 150, 4, 172, 112, 167, 21631, 336, 385, 39, 4, 172, 4536, 1111, 17, 546, 38, 13, 447, 4, 192, 50, 16, 6, 147, 2025, 19, 14, 22, 4, 1920, 4613, 469, 4, 22, 71, 87, 12, 16, 43, 530, 38, 76, 15, 13, 1247, 4, 22, 17, 515, 17, 12, 16, 626, 18, 19193, 5, 62, 386, 12, 8, 316, 8, 106, 5, 4, 2223, 5244, 16, 480, 66, 3785, 33, 4, 130, 12, 16, 38, 619, 5, 25, 124, 51, 36, 135, 48, 25, 1415, 33, 6, 22, 12, 215, 28, 77, 52, 5, 14, 407, 16, 82, 10311, 8, 4, 107, 117, 5952, 15, 256, 4, 31050, 7, 3766, 5, 723, 36, 71, 43, 530, 476, 26, 400, 317, 46, 7, 4, 12118, 1029, 13, 104, 88, 4, 381, 15, 297, 98, 32, 2071, 56, 26, 141, 6, 194, 7486, 18, 4, 226, 22, 21, 134, 476, 26, 480, 5, 144, 30, 5535, 18, 51, 36, 28, 224, 92, 25, 104, 4, 226, 65, 16, 38, 1334, 88, 12, 16, 283, 5, 16, 4472, 113, 103, 32, 15, 16, 5345, 19, 178, 32]\n"
     ]
    }
   ],
   "source": [
    "print(train_data[0])"
   ]
  },
  {
   "cell_type": "code",
   "execution_count": 5,
   "metadata": {},
   "outputs": [
    {
     "data": {
      "text/plain": [
       "(218, 189)"
      ]
     },
     "execution_count": 5,
     "metadata": {},
     "output_type": "execute_result"
    }
   ],
   "source": [
    "len(train_data[0]), len(train_data[1])"
   ]
  },
  {
   "cell_type": "code",
   "execution_count": 7,
   "metadata": {},
   "outputs": [],
   "source": [
    "word_index = imdb.get_word_index()\n"
   ]
  },
  {
   "cell_type": "code",
   "execution_count": 8,
   "metadata": {},
   "outputs": [],
   "source": [
    "word_index = {k:(v+3) for k, v in word_index.items()}\n"
   ]
  },
  {
   "cell_type": "code",
   "execution_count": 9,
   "metadata": {},
   "outputs": [],
   "source": [
    "word_index[\"<PAD>\"] = 0\n",
    "word_index[\"<START>\"] = 1\n",
    "word_index[\"<UNK>\"] = 2\n",
    "word_index[\"<UNSED>\"] = 3\n"
   ]
  },
  {
   "cell_type": "code",
   "execution_count": 10,
   "metadata": {},
   "outputs": [],
   "source": [
    "reverse_word_index = dict([(value, key) for (key, value) in word_index.items()])\n",
    "\n",
    "def decode_review(text):\n",
    "    return ' '.join([reverse_word_index.get(i, '?') for i in text])\n"
   ]
  },
  {
   "cell_type": "code",
   "execution_count": 11,
   "metadata": {},
   "outputs": [
    {
     "data": {
      "text/plain": [
       "\"<START> this film was just brilliant casting location scenery story direction everyone's really suited the part they played and you could just imagine being there robert redford's is an amazing actor and now the same being director norman's father came from the same scottish island as myself so i loved the fact there was a real connection with this film the witty remarks throughout the film were great it was just brilliant so much that i bought the film as soon as it was released for retail and would recommend it to everyone to watch and the fly fishing was amazing really cried at the end it was so sad and you know what they say if you cry at a film it must have been good and this definitely was also congratulations to the two little boy's that played the part's of norman and paul they were just brilliant children are often left out of the praising list i think because the stars that play them all grown up are such a big profile for the whole film but these children are amazing and should be praised for what they have done don't you think the whole story was so lovely because it was true and was someone's life after all that was shared with us all\""
      ]
     },
     "execution_count": 11,
     "metadata": {},
     "output_type": "execute_result"
    }
   ],
   "source": [
    "decode_review(train_data[0])"
   ]
  },
  {
   "cell_type": "code",
   "execution_count": 12,
   "metadata": {},
   "outputs": [],
   "source": [
    "train_data = keras.preprocessing.sequence.pad_sequences(train_data,\n",
    "                                                value=word_index['<PAD>'],\n",
    "                                                padding='post',\n",
    "                                                maxlen=256)\n",
    "\n",
    "test_data = keras.preprocessing.sequence.pad_sequences(test_data,\n",
    "                                                    value=word_index['<PAD>'], \n",
    "                                                    padding='post', maxlen=256)\n"
   ]
  },
  {
   "cell_type": "code",
   "execution_count": 13,
   "metadata": {},
   "outputs": [
    {
     "data": {
      "text/plain": [
       "(256, 256)"
      ]
     },
     "execution_count": 13,
     "metadata": {},
     "output_type": "execute_result"
    }
   ],
   "source": [
    "len(train_data[0]), len(train_data[1])"
   ]
  },
  {
   "cell_type": "code",
   "execution_count": 14,
   "metadata": {},
   "outputs": [
    {
     "name": "stdout",
     "output_type": "stream",
     "text": [
      "[    1    14    22    16    43   530   973  1622  1385    65   458  4468\n",
      "    66  3941     4   173    36   256     5    25   100    43   838   112\n",
      "    50   670 22665     9    35   480   284     5   150     4   172   112\n",
      "   167 21631   336   385    39     4   172  4536  1111    17   546    38\n",
      "    13   447     4   192    50    16     6   147  2025    19    14    22\n",
      "     4  1920  4613   469     4    22    71    87    12    16    43   530\n",
      "    38    76    15    13  1247     4    22    17   515    17    12    16\n",
      "   626    18 19193     5    62   386    12     8   316     8   106     5\n",
      "     4  2223  5244    16   480    66  3785    33     4   130    12    16\n",
      "    38   619     5    25   124    51    36   135    48    25  1415    33\n",
      "     6    22    12   215    28    77    52     5    14   407    16    82\n",
      " 10311     8     4   107   117  5952    15   256     4 31050     7  3766\n",
      "     5   723    36    71    43   530   476    26   400   317    46     7\n",
      "     4 12118  1029    13   104    88     4   381    15   297    98    32\n",
      "  2071    56    26   141     6   194  7486    18     4   226    22    21\n",
      "   134   476    26   480     5   144    30  5535    18    51    36    28\n",
      "   224    92    25   104     4   226    65    16    38  1334    88    12\n",
      "    16   283     5    16  4472   113   103    32    15    16  5345    19\n",
      "   178    32     0     0     0     0     0     0     0     0     0     0\n",
      "     0     0     0     0     0     0     0     0     0     0     0     0\n",
      "     0     0     0     0     0     0     0     0     0     0     0     0\n",
      "     0     0     0     0]\n"
     ]
    }
   ],
   "source": [
    "print(train_data[0])"
   ]
  },
  {
   "cell_type": "code",
   "execution_count": 15,
   "metadata": {},
   "outputs": [
    {
     "name": "stdout",
     "output_type": "stream",
     "text": [
      "Model: \"sequential\"\n",
      "_________________________________________________________________\n",
      "Layer (type)                 Output Shape              Param #   \n",
      "=================================================================\n",
      "embedding (Embedding)        (None, None, 16)          1600000   \n",
      "_________________________________________________________________\n",
      "global_average_pooling1d (Gl (None, 16)                0         \n",
      "_________________________________________________________________\n",
      "dense (Dense)                (None, 16)                272       \n",
      "_________________________________________________________________\n",
      "dense_1 (Dense)              (None, 1)                 17        \n",
      "=================================================================\n",
      "Total params: 1,600,289\n",
      "Trainable params: 1,600,289\n",
      "Non-trainable params: 0\n",
      "_________________________________________________________________\n"
     ]
    }
   ],
   "source": [
    "vocab_size = 100000\n",
    "\n",
    "model = keras.Sequential()\n",
    "model.add(keras.layers.Embedding(vocab_size, 16))\n",
    "model.add(keras.layers.GlobalAveragePooling1D())\n",
    "model.add(keras.layers.Dense(16, activation='relu'))\n",
    "model.add(keras.layers.Dense(1, activation='sigmoid'))\n",
    "\n",
    "model.summary()\n"
   ]
  },
  {
   "cell_type": "code",
   "execution_count": 16,
   "metadata": {},
   "outputs": [],
   "source": [
    "model.compile(optimizer='adam',loss='binary_crossentropy', metrics=['accuracy'])\n"
   ]
  },
  {
   "cell_type": "code",
   "execution_count": 17,
   "metadata": {},
   "outputs": [],
   "source": [
    "\n",
    "x_val = train_data[:10000]\n",
    "partian_x_train = train_data[10000:]\n",
    "\n",
    "y_val = train_labels[:10000]\n",
    "partian_y_train = train_labels[10000:]\n"
   ]
  },
  {
   "cell_type": "code",
   "execution_count": 18,
   "metadata": {},
   "outputs": [
    {
     "name": "stdout",
     "output_type": "stream",
     "text": [
      "Epoch 1/40\n",
      "30/30 [==============================] - 1s 25ms/step - loss: 0.6921 - accuracy: 0.5682 - val_loss: 0.6903 - val_accuracy: 0.7117\n",
      "Epoch 2/40\n",
      "30/30 [==============================] - 1s 20ms/step - loss: 0.6872 - accuracy: 0.7614 - val_loss: 0.6839 - val_accuracy: 0.7552\n",
      "Epoch 3/40\n",
      "30/30 [==============================] - 1s 28ms/step - loss: 0.6770 - accuracy: 0.7783 - val_loss: 0.6709 - val_accuracy: 0.7719\n",
      "Epoch 4/40\n",
      "30/30 [==============================] - 1s 20ms/step - loss: 0.6573 - accuracy: 0.7958 - val_loss: 0.6477 - val_accuracy: 0.7757\n",
      "Epoch 5/40\n",
      "30/30 [==============================] - 1s 20ms/step - loss: 0.6249 - accuracy: 0.8092 - val_loss: 0.6140 - val_accuracy: 0.7971\n",
      "Epoch 6/40\n",
      "30/30 [==============================] - 1s 21ms/step - loss: 0.5816 - accuracy: 0.8273 - val_loss: 0.5726 - val_accuracy: 0.8061\n",
      "Epoch 7/40\n",
      "30/30 [==============================] - 1s 20ms/step - loss: 0.5317 - accuracy: 0.8415 - val_loss: 0.5291 - val_accuracy: 0.8206\n",
      "Epoch 8/40\n",
      "30/30 [==============================] - 1s 20ms/step - loss: 0.4806 - accuracy: 0.8591 - val_loss: 0.4872 - val_accuracy: 0.8310\n",
      "Epoch 9/40\n",
      "30/30 [==============================] - 1s 22ms/step - loss: 0.4320 - accuracy: 0.8719 - val_loss: 0.4497 - val_accuracy: 0.8417\n",
      "Epoch 10/40\n",
      "30/30 [==============================] - 1s 24ms/step - loss: 0.3878 - accuracy: 0.8875 - val_loss: 0.4165 - val_accuracy: 0.8509\n",
      "Epoch 11/40\n",
      "30/30 [==============================] - 1s 23ms/step - loss: 0.3486 - accuracy: 0.8986 - val_loss: 0.3889 - val_accuracy: 0.8594\n",
      "Epoch 12/40\n",
      "30/30 [==============================] - 1s 24ms/step - loss: 0.3150 - accuracy: 0.9069 - val_loss: 0.3668 - val_accuracy: 0.8625\n",
      "Epoch 13/40\n",
      "30/30 [==============================] - 1s 22ms/step - loss: 0.2856 - accuracy: 0.9155 - val_loss: 0.3480 - val_accuracy: 0.8700\n",
      "Epoch 14/40\n",
      "30/30 [==============================] - 1s 25ms/step - loss: 0.2605 - accuracy: 0.9223 - val_loss: 0.3333 - val_accuracy: 0.8742\n",
      "Epoch 15/40\n",
      "30/30 [==============================] - 1s 24ms/step - loss: 0.2386 - accuracy: 0.9287 - val_loss: 0.3211 - val_accuracy: 0.8765\n",
      "Epoch 16/40\n",
      "30/30 [==============================] - 1s 23ms/step - loss: 0.2196 - accuracy: 0.9353 - val_loss: 0.3118 - val_accuracy: 0.8795\n",
      "Epoch 17/40\n",
      "30/30 [==============================] - 1s 21ms/step - loss: 0.2019 - accuracy: 0.9403 - val_loss: 0.3032 - val_accuracy: 0.8808\n",
      "Epoch 18/40\n",
      "30/30 [==============================] - 1s 22ms/step - loss: 0.1869 - accuracy: 0.9458 - val_loss: 0.2970 - val_accuracy: 0.8823\n",
      "Epoch 19/40\n",
      "30/30 [==============================] - 1s 22ms/step - loss: 0.1724 - accuracy: 0.9512 - val_loss: 0.2927 - val_accuracy: 0.8847\n",
      "Epoch 20/40\n",
      "30/30 [==============================] - 1s 22ms/step - loss: 0.1596 - accuracy: 0.9553 - val_loss: 0.2870 - val_accuracy: 0.8850\n",
      "Epoch 21/40\n",
      "30/30 [==============================] - 1s 22ms/step - loss: 0.1483 - accuracy: 0.9607 - val_loss: 0.2839 - val_accuracy: 0.8867\n",
      "Epoch 22/40\n",
      "30/30 [==============================] - 1s 21ms/step - loss: 0.1378 - accuracy: 0.9645 - val_loss: 0.2812 - val_accuracy: 0.8863\n",
      "Epoch 23/40\n",
      "30/30 [==============================] - 1s 22ms/step - loss: 0.1278 - accuracy: 0.9681 - val_loss: 0.2797 - val_accuracy: 0.8873\n",
      "Epoch 24/40\n",
      "30/30 [==============================] - 1s 23ms/step - loss: 0.1189 - accuracy: 0.9711 - val_loss: 0.2779 - val_accuracy: 0.8879\n",
      "Epoch 25/40\n",
      "30/30 [==============================] - 1s 21ms/step - loss: 0.1110 - accuracy: 0.9739 - val_loss: 0.2764 - val_accuracy: 0.8890\n",
      "Epoch 26/40\n",
      "30/30 [==============================] - 1s 24ms/step - loss: 0.1035 - accuracy: 0.9767 - val_loss: 0.2760 - val_accuracy: 0.8882\n",
      "Epoch 27/40\n",
      "30/30 [==============================] - 1s 23ms/step - loss: 0.0964 - accuracy: 0.9788 - val_loss: 0.2757 - val_accuracy: 0.8889\n",
      "Epoch 28/40\n",
      "30/30 [==============================] - 1s 23ms/step - loss: 0.0900 - accuracy: 0.9811 - val_loss: 0.2757 - val_accuracy: 0.8900\n",
      "Epoch 29/40\n",
      "30/30 [==============================] - 1s 21ms/step - loss: 0.0842 - accuracy: 0.9829 - val_loss: 0.2785 - val_accuracy: 0.8878\n",
      "Epoch 30/40\n",
      "30/30 [==============================] - 1s 20ms/step - loss: 0.0793 - accuracy: 0.9837 - val_loss: 0.2777 - val_accuracy: 0.8892\n",
      "Epoch 31/40\n",
      "30/30 [==============================] - 1s 20ms/step - loss: 0.0738 - accuracy: 0.9857 - val_loss: 0.2782 - val_accuracy: 0.8890\n",
      "Epoch 32/40\n",
      "30/30 [==============================] - 1s 22ms/step - loss: 0.0691 - accuracy: 0.9871 - val_loss: 0.2800 - val_accuracy: 0.8895\n",
      "Epoch 33/40\n",
      "30/30 [==============================] - 1s 21ms/step - loss: 0.0648 - accuracy: 0.9888 - val_loss: 0.2815 - val_accuracy: 0.8886\n",
      "Epoch 34/40\n",
      "30/30 [==============================] - 1s 22ms/step - loss: 0.0608 - accuracy: 0.9893 - val_loss: 0.2830 - val_accuracy: 0.8892\n",
      "Epoch 35/40\n",
      "30/30 [==============================] - 1s 20ms/step - loss: 0.0570 - accuracy: 0.9904 - val_loss: 0.2881 - val_accuracy: 0.8869\n",
      "Epoch 36/40\n",
      "30/30 [==============================] - 1s 20ms/step - loss: 0.0537 - accuracy: 0.9913 - val_loss: 0.2869 - val_accuracy: 0.8886\n",
      "Epoch 37/40\n",
      "30/30 [==============================] - 1s 21ms/step - loss: 0.0503 - accuracy: 0.9923 - val_loss: 0.2882 - val_accuracy: 0.8878\n",
      "Epoch 38/40\n",
      "30/30 [==============================] - 1s 22ms/step - loss: 0.0473 - accuracy: 0.9926 - val_loss: 0.2908 - val_accuracy: 0.8885\n",
      "Epoch 39/40\n",
      "30/30 [==============================] - 1s 22ms/step - loss: 0.0447 - accuracy: 0.9931 - val_loss: 0.2945 - val_accuracy: 0.8874\n",
      "Epoch 40/40\n",
      "30/30 [==============================] - 1s 20ms/step - loss: 0.0422 - accuracy: 0.9943 - val_loss: 0.2954 - val_accuracy: 0.8879\n"
     ]
    }
   ],
   "source": [
    "history = model.fit(partian_x_train,\n",
    "                    partian_y_train,\n",
    "                    epochs=40,\n",
    "                    batch_size=512,\n",
    "                    validation_data=(x_val, y_val),\n",
    "                    verbose=1\n",
    "                   )\n"
   ]
  },
  {
   "cell_type": "code",
   "execution_count": 19,
   "metadata": {},
   "outputs": [
    {
     "name": "stdout",
     "output_type": "stream",
     "text": [
      "782/782 - 1s - loss: 0.3289 - accuracy: 0.8728\n"
     ]
    },
    {
     "data": {
      "text/plain": [
       "dict_keys(['loss', 'accuracy', 'val_loss', 'val_accuracy'])"
      ]
     },
     "execution_count": 19,
     "metadata": {},
     "output_type": "execute_result"
    }
   ],
   "source": [
    "results = model.evaluate(test_data, test_labels, verbose=2)\n",
    "\n",
    "history_dict = history.history\n",
    "history_dict.keys()\n",
    "\n"
   ]
  },
  {
   "cell_type": "code",
   "execution_count": 22,
   "metadata": {},
   "outputs": [],
   "source": [
    "import matplotlib.pyplot as plt"
   ]
  },
  {
   "cell_type": "code",
   "execution_count": 23,
   "metadata": {},
   "outputs": [
    {
     "data": {
      "image/png": "[encoded data removed]",
      "text/plain": [
       "<Figure size 432x288 with 1 Axes>"
      ]
     },
     "metadata": {
      "needs_background": "light"
     },
     "output_type": "display_data"
    }
   ],
   "source": [
    "acc = history_dict['accuracy']\n",
    "val_acc = history_dict['val_accuracy']\n",
    "loss = history_dict['loss']\n",
    "val_loss = history_dict['val_loss']\n",
    "\n",
    "epochs = range(1, len(acc) +1)\n",
    "\n",
    "plt.plot(epochs, loss, 'bo', label=\"Training loss\")\n",
    "plt.plot(epochs, val_loss, 'b', label='Validation loss')\n",
    "plt.title(\"Training and Validation loss\")\n",
    "plt.xlabel('Epochs')\n",
    "plt.ylabel(\"Loss\")\n",
    "plt.legend()\n",
    "plt.show()\n"
   ]
  },
  {
   "cell_type": "code",
   "execution_count": 24,
   "metadata": {},
   "outputs": [
    {
     "data": {
      "text/plain": [
       "<matplotlib.legend.Legend at 0x7f76a8ec5050>"
      ]
     },
     "execution_count": 24,
     "metadata": {},
     "output_type": "execute_result"
    },
    {
     "data": {
      "image/png": "[encoded data removed]",
      "text/plain": [
       "<Figure size 432x288 with 1 Axes>"
      ]
     },
     "metadata": {
      "needs_background": "light"
     },
     "output_type": "display_data"
    }
   ],
   "source": [
    "plt.clf()\n",
    "plt.plot(epochs, acc, 'bo', label='Training acc')\n",
    "plt.plot(epochs, val_acc, 'b', label='Validation acc')\n",
    "plt.title(\"Training and validation accuracy\")\n",
    "plt.xlabel('Epochs')\n",
    "plt.ylabel(\"Accuracy\")\n",
    "plt.legend()\n"
   ]
  },
  {
   "cell_type": "code",
   "execution_count": null,
   "metadata": {},
   "outputs": [],
   "source": []
  }
 ],
 "metadata": {
  "kernelspec": {
   "display_name": "Python 3",
   "language": "python",
   "name": "python3"
  },
  "language_info": {
   "codemirror_mode": {
    "name": "ipython",
    "version": 3
   },
   "file_extension": ".py",
   "mimetype": "text/x-python",
   "name": "python",
   "nbconvert_exporter": "python",
   "pygments_lexer": "ipython3",
   "version": "3.7.9"
  }
 },
 "nbformat": 4,
 "nbformat_minor": 4
}
