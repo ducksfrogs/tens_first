{
 "cells": [
  {
   "cell_type": "code",
   "execution_count": 1,
   "metadata": {},
   "outputs": [
    {
     "name": "stdout",
     "output_type": "stream",
     "text": [
      "2.2.0\n"
     ]
    }
   ],
   "source": [
    "import tensorflow as tf\n",
    "from tensorflow import keras\n",
    "\n",
    "import numpy as np\n",
    "import matplotlib.pyplot as plt\n",
    "\n",
    "print(tf.__version__)\n"
   ]
  },
  {
   "cell_type": "code",
   "execution_count": 2,
   "metadata": {},
   "outputs": [
    {
     "name": "stderr",
     "output_type": "stream",
     "text": [
      "/home/ma/.bin/anaconda3/envs/tensor/lib/python3.7/site-packages/tensorflow/python/keras/datasets/imdb.py:155: VisibleDeprecationWarning: Creating an ndarray from ragged nested sequences (which is a list-or-tuple of lists-or-tuples-or ndarrays with different lengths or shapes) is deprecated. If you meant to do this, you must specify 'dtype=object' when creating the ndarray\n",
      "  x_train, y_train = np.array(xs[:idx]), np.array(labels[:idx])\n",
      "/home/ma/.bin/anaconda3/envs/tensor/lib/python3.7/site-packages/tensorflow/python/keras/datasets/imdb.py:156: VisibleDeprecationWarning: Creating an ndarray from ragged nested sequences (which is a list-or-tuple of lists-or-tuples-or ndarrays with different lengths or shapes) is deprecated. If you meant to do this, you must specify 'dtype=object' when creating the ndarray\n",
      "  x_test, y_test = np.array(xs[idx:]), np.array(labels[idx:])\n"
     ]
    }
   ],
   "source": [
    "imdb = keras.datasets.imdb\n",
    "\n",
    "(train_data, train_labels), (test_data, test_labels) = imdb.load_data()\n"
   ]
  },
  {
   "cell_type": "code",
   "execution_count": 3,
   "metadata": {},
   "outputs": [
    {
     "name": "stdout",
     "output_type": "stream",
     "text": [
      "Training entries: 25000, labels 25000\n"
     ]
    }
   ],
   "source": [
    "print(\"Training entries: {}, labels {}\".format(len(train_data), len(train_labels)))\n"
   ]
  },
  {
   "cell_type": "code",
   "execution_count": 4,
   "metadata": {},
   "outputs": [
    {
     "name": "stdout",
     "output_type": "stream",
     "text": [
      "[1, 14, 22, 16, 43, 530, 973, 1622, 1385, 65, 458, 4468, 66, 3941, 4, 173, 36, 256, 5, 25, 100, 43, 838, 112, 50, 670, 22665, 9, 35, 480, 284, 5, 150, 4, 172, 112, 167, 21631, 336, 385, 39, 4, 172, 4536, 1111, 17, 546, 38, 13, 447, 4, 192, 50, 16, 6, 147, 2025, 19, 14, 22, 4, 1920, 4613, 469, 4, 22, 71, 87, 12, 16, 43, 530, 38, 76, 15, 13, 1247, 4, 22, 17, 515, 17, 12, 16, 626, 18, 19193, 5, 62, 386, 12, 8, 316, 8, 106, 5, 4, 2223, 5244, 16, 480, 66, 3785, 33, 4, 130, 12, 16, 38, 619, 5, 25, 124, 51, 36, 135, 48, 25, 1415, 33, 6, 22, 12, 215, 28, 77, 52, 5, 14, 407, 16, 82, 10311, 8, 4, 107, 117, 5952, 15, 256, 4, 31050, 7, 3766, 5, 723, 36, 71, 43, 530, 476, 26, 400, 317, 46, 7, 4, 12118, 1029, 13, 104, 88, 4, 381, 15, 297, 98, 32, 2071, 56, 26, 141, 6, 194, 7486, 18, 4, 226, 22, 21, 134, 476, 26, 480, 5, 144, 30, 5535, 18, 51, 36, 28, 224, 92, 25, 104, 4, 226, 65, 16, 38, 1334, 88, 12, 16, 283, 5, 16, 4472, 113, 103, 32, 15, 16, 5345, 19, 178, 32]\n"
     ]
    }
   ],
   "source": [
    "print(train_data[0])\n"
   ]
  },
  {
   "cell_type": "code",
   "execution_count": 5,
   "metadata": {},
   "outputs": [
    {
     "data": {
      "text/plain": [
       "(218, 189)"
      ]
     },
     "execution_count": 5,
     "metadata": {},
     "output_type": "execute_result"
    }
   ],
   "source": [
    "len(train_data[0]), len(train_data[1])\n"
   ]
  },
  {
   "cell_type": "code",
   "execution_count": 6,
   "metadata": {},
   "outputs": [],
   "source": [
    "word_index = imdb.get_word_index()\n",
    "\n",
    "word_index = {k:(v+3) for k, v in word_index.items()}\n",
    "\n",
    "word_index['<PAD>'] = 0\n",
    "word_index['<STRAT>'] = 1\n",
    "word_index['<UNK>'] = 2\n",
    "word_index['<UNUSED>'] = 3\n",
    "\n",
    "reverse_word_index = dict([(value, key) for (key, value) in word_index.items()])\n"
   ]
  },
  {
   "cell_type": "code",
   "execution_count": 7,
   "metadata": {},
   "outputs": [
    {
     "data": {
      "text/plain": [
       "\"<STRAT> this film was just brilliant casting location scenery story direction everyone's really suited the part they played and you could just imagine being there robert redford's is an amazing actor and now the same being director norman's father came from the same scottish island as myself so i loved the fact there was a real connection with this film the witty remarks throughout the film were great it was just brilliant so much that i bought the film as soon as it was released for retail and would recommend it to everyone to watch and the fly fishing was amazing really cried at the end it was so sad and you know what they say if you cry at a film it must have been good and this definitely was also congratulations to the two little boy's that played the part's of norman and paul they were just brilliant children are often left out of the praising list i think because the stars that play them all grown up are such a big profile for the whole film but these children are amazing and should be praised for what they have done don't you think the whole story was so lovely because it was true and was someone's life after all that was shared with us all\""
      ]
     },
     "execution_count": 7,
     "metadata": {},
     "output_type": "execute_result"
    }
   ],
   "source": [
    "def decode_review(text):\n",
    "    return ' '.join([reverse_word_index.get(i, '?') for i in text])\n",
    "\n",
    "decode_review(train_data[0])\n"
   ]
  },
  {
   "cell_type": "code",
   "execution_count": 8,
   "metadata": {},
   "outputs": [],
   "source": [
    "train_data = keras.preprocessing.sequence.pad_sequences(train_data,\n",
    "                                    value=word_index['<PAD>'],\n",
    "                                    padding='post',\n",
    "                                    maxlen=256)\n",
    "\n",
    "\n",
    "test_data = keras.preprocessing.sequence.pad_sequences(test_data,\n",
    "                                    value=word_index['<PAD>'],\n",
    "                                    padding='post',\n",
    "                                    maxlen=256)\n"
   ]
  },
  {
   "cell_type": "code",
   "execution_count": 9,
   "metadata": {},
   "outputs": [
    {
     "data": {
      "text/plain": [
       "(256, 256)"
      ]
     },
     "execution_count": 9,
     "metadata": {},
     "output_type": "execute_result"
    }
   ],
   "source": [
    "len(train_data[0]), len(train_data[1])\n"
   ]
  },
  {
   "cell_type": "code",
   "execution_count": 10,
   "metadata": {},
   "outputs": [
    {
     "name": "stdout",
     "output_type": "stream",
     "text": [
      "[    1    14    22    16    43   530   973  1622  1385    65   458  4468\n",
      "    66  3941     4   173    36   256     5    25   100    43   838   112\n",
      "    50   670 22665     9    35   480   284     5   150     4   172   112\n",
      "   167 21631   336   385    39     4   172  4536  1111    17   546    38\n",
      "    13   447     4   192    50    16     6   147  2025    19    14    22\n",
      "     4  1920  4613   469     4    22    71    87    12    16    43   530\n",
      "    38    76    15    13  1247     4    22    17   515    17    12    16\n",
      "   626    18 19193     5    62   386    12     8   316     8   106     5\n",
      "     4  2223  5244    16   480    66  3785    33     4   130    12    16\n",
      "    38   619     5    25   124    51    36   135    48    25  1415    33\n",
      "     6    22    12   215    28    77    52     5    14   407    16    82\n",
      " 10311     8     4   107   117  5952    15   256     4 31050     7  3766\n",
      "     5   723    36    71    43   530   476    26   400   317    46     7\n",
      "     4 12118  1029    13   104    88     4   381    15   297    98    32\n",
      "  2071    56    26   141     6   194  7486    18     4   226    22    21\n",
      "   134   476    26   480     5   144    30  5535    18    51    36    28\n",
      "   224    92    25   104     4   226    65    16    38  1334    88    12\n",
      "    16   283     5    16  4472   113   103    32    15    16  5345    19\n",
      "   178    32     0     0     0     0     0     0     0     0     0     0\n",
      "     0     0     0     0     0     0     0     0     0     0     0     0\n",
      "     0     0     0     0     0     0     0     0     0     0     0     0\n",
      "     0     0     0     0]\n"
     ]
    }
   ],
   "source": [
    "print(train_data[0])\n"
   ]
  },
  {
   "cell_type": "code",
   "execution_count": 11,
   "metadata": {},
   "outputs": [
    {
     "name": "stdout",
     "output_type": "stream",
     "text": [
      "Model: \"sequential\"\n",
      "_________________________________________________________________\n",
      "Layer (type)                 Output Shape              Param #   \n",
      "=================================================================\n",
      "embedding (Embedding)        (None, None, 16)          1600000   \n",
      "_________________________________________________________________\n",
      "global_average_pooling1d (Gl (None, 16)                0         \n",
      "_________________________________________________________________\n",
      "dense (Dense)                (None, 16)                272       \n",
      "_________________________________________________________________\n",
      "dense_1 (Dense)              (None, 1)                 17        \n",
      "=================================================================\n",
      "Total params: 1,600,289\n",
      "Trainable params: 1,600,289\n",
      "Non-trainable params: 0\n",
      "_________________________________________________________________\n"
     ]
    }
   ],
   "source": [
    "vocab_size = 100000\n",
    "\n",
    "model = keras.Sequential()\n",
    "model.add(keras.layers.Embedding(vocab_size, 16))\n",
    "model.add(keras.layers.GlobalAveragePooling1D())\n",
    "model.add(keras.layers.Dense(16, activation='relu'))\n",
    "model.add(keras.layers.Dense(1, activation='sigmoid'))\n",
    "\n",
    "model.summary()\n"
   ]
  },
  {
   "cell_type": "code",
   "execution_count": 12,
   "metadata": {},
   "outputs": [],
   "source": [
    "model.compile(optimizer='adam',loss='binary_crossentropy',metrics=['accuracy'])\n"
   ]
  },
  {
   "cell_type": "code",
   "execution_count": 13,
   "metadata": {},
   "outputs": [],
   "source": [
    "x_val = train_data[:10000]\n",
    "partial_x_train = train_data[10000:]\n",
    "\n",
    "y_val = train_labels[:10000]\n",
    "partial_y_train = train_labels[10000:]\n"
   ]
  },
  {
   "cell_type": "code",
   "execution_count": 20,
   "metadata": {},
   "outputs": [
    {
     "name": "stdout",
     "output_type": "stream",
     "text": [
      "Epoch 1/40\n",
      "30/30 [==============================] - 1s 20ms/step - loss: 0.0341 - accuracy: 0.9957 - val_loss: 0.3073 - val_accuracy: 0.8839\n",
      "Epoch 2/40\n",
      "30/30 [==============================] - 1s 19ms/step - loss: 0.0324 - accuracy: 0.9959 - val_loss: 0.3064 - val_accuracy: 0.8871\n",
      "Epoch 3/40\n",
      "30/30 [==============================] - 1s 20ms/step - loss: 0.0302 - accuracy: 0.9965 - val_loss: 0.3095 - val_accuracy: 0.8861\n",
      "Epoch 4/40\n",
      "30/30 [==============================] - 1s 20ms/step - loss: 0.0285 - accuracy: 0.9967 - val_loss: 0.3130 - val_accuracy: 0.8852\n",
      "Epoch 5/40\n",
      "30/30 [==============================] - 1s 21ms/step - loss: 0.0270 - accuracy: 0.9967 - val_loss: 0.3150 - val_accuracy: 0.8865\n",
      "Epoch 6/40\n",
      "30/30 [==============================] - 1s 21ms/step - loss: 0.0254 - accuracy: 0.9973 - val_loss: 0.3182 - val_accuracy: 0.8862\n",
      "Epoch 7/40\n",
      "30/30 [==============================] - 1s 21ms/step - loss: 0.0240 - accuracy: 0.9975 - val_loss: 0.3209 - val_accuracy: 0.8844\n",
      "Epoch 8/40\n",
      "30/30 [==============================] - 1s 22ms/step - loss: 0.0228 - accuracy: 0.9979 - val_loss: 0.3249 - val_accuracy: 0.8840\n",
      "Epoch 9/40\n",
      "30/30 [==============================] - 1s 21ms/step - loss: 0.0215 - accuracy: 0.9979 - val_loss: 0.3269 - val_accuracy: 0.8840\n",
      "Epoch 10/40\n",
      "30/30 [==============================] - 1s 21ms/step - loss: 0.0203 - accuracy: 0.9980 - val_loss: 0.3306 - val_accuracy: 0.8835\n",
      "Epoch 11/40\n",
      "30/30 [==============================] - 1s 22ms/step - loss: 0.0192 - accuracy: 0.9982 - val_loss: 0.3335 - val_accuracy: 0.8832\n",
      "Epoch 12/40\n",
      "30/30 [==============================] - 1s 22ms/step - loss: 0.0183 - accuracy: 0.9983 - val_loss: 0.3376 - val_accuracy: 0.8826\n",
      "Epoch 13/40\n",
      "30/30 [==============================] - 1s 22ms/step - loss: 0.0174 - accuracy: 0.9986 - val_loss: 0.3396 - val_accuracy: 0.8835\n",
      "Epoch 14/40\n",
      "30/30 [==============================] - 1s 21ms/step - loss: 0.0166 - accuracy: 0.9985 - val_loss: 0.3439 - val_accuracy: 0.8827\n",
      "Epoch 15/40\n",
      "30/30 [==============================] - 1s 22ms/step - loss: 0.0157 - accuracy: 0.9988 - val_loss: 0.3458 - val_accuracy: 0.8830\n",
      "Epoch 16/40\n",
      "30/30 [==============================] - 1s 22ms/step - loss: 0.0148 - accuracy: 0.9991 - val_loss: 0.3504 - val_accuracy: 0.8821\n",
      "Epoch 17/40\n",
      "30/30 [==============================] - 1s 20ms/step - loss: 0.0140 - accuracy: 0.9991 - val_loss: 0.3534 - val_accuracy: 0.8821\n",
      "Epoch 18/40\n",
      "30/30 [==============================] - 1s 20ms/step - loss: 0.0133 - accuracy: 0.9991 - val_loss: 0.3551 - val_accuracy: 0.8813\n",
      "Epoch 19/40\n",
      "30/30 [==============================] - 1s 20ms/step - loss: 0.0127 - accuracy: 0.9991 - val_loss: 0.3594 - val_accuracy: 0.8814\n",
      "Epoch 20/40\n",
      "30/30 [==============================] - 1s 21ms/step - loss: 0.0120 - accuracy: 0.9993 - val_loss: 0.3633 - val_accuracy: 0.8805\n",
      "Epoch 21/40\n",
      "30/30 [==============================] - 1s 23ms/step - loss: 0.0115 - accuracy: 0.9993 - val_loss: 0.3650 - val_accuracy: 0.8808\n",
      "Epoch 22/40\n",
      "30/30 [==============================] - 1s 19ms/step - loss: 0.0109 - accuracy: 0.9993 - val_loss: 0.3683 - val_accuracy: 0.8809\n",
      "Epoch 23/40\n",
      "30/30 [==============================] - 1s 22ms/step - loss: 0.0103 - accuracy: 0.9995 - val_loss: 0.3710 - val_accuracy: 0.8797\n",
      "Epoch 24/40\n",
      "30/30 [==============================] - 1s 20ms/step - loss: 0.0100 - accuracy: 0.9995 - val_loss: 0.3743 - val_accuracy: 0.8804\n",
      "Epoch 25/40\n",
      "30/30 [==============================] - 1s 20ms/step - loss: 0.0094 - accuracy: 0.9994 - val_loss: 0.3771 - val_accuracy: 0.8796\n",
      "Epoch 26/40\n",
      "30/30 [==============================] - 1s 20ms/step - loss: 0.0089 - accuracy: 0.9995 - val_loss: 0.3806 - val_accuracy: 0.8797\n",
      "Epoch 27/40\n",
      "30/30 [==============================] - 1s 20ms/step - loss: 0.0084 - accuracy: 0.9997 - val_loss: 0.3830 - val_accuracy: 0.8788\n",
      "Epoch 28/40\n",
      "30/30 [==============================] - 1s 20ms/step - loss: 0.0079 - accuracy: 0.9996 - val_loss: 0.3861 - val_accuracy: 0.8787\n",
      "Epoch 29/40\n",
      "30/30 [==============================] - 1s 20ms/step - loss: 0.0076 - accuracy: 0.9997 - val_loss: 0.3903 - val_accuracy: 0.8784\n",
      "Epoch 30/40\n",
      "30/30 [==============================] - 1s 20ms/step - loss: 0.0072 - accuracy: 0.9998 - val_loss: 0.3925 - val_accuracy: 0.8784\n",
      "Epoch 31/40\n",
      "30/30 [==============================] - 1s 20ms/step - loss: 0.0068 - accuracy: 0.9999 - val_loss: 0.3958 - val_accuracy: 0.8781\n",
      "Epoch 32/40\n",
      "30/30 [==============================] - 1s 20ms/step - loss: 0.0066 - accuracy: 0.9998 - val_loss: 0.3982 - val_accuracy: 0.8783\n",
      "Epoch 33/40\n",
      "30/30 [==============================] - 1s 22ms/step - loss: 0.0063 - accuracy: 0.9998 - val_loss: 0.4006 - val_accuracy: 0.8786\n",
      "Epoch 34/40\n",
      "30/30 [==============================] - 1s 20ms/step - loss: 0.0060 - accuracy: 0.9999 - val_loss: 0.4036 - val_accuracy: 0.8774\n",
      "Epoch 35/40\n",
      "30/30 [==============================] - 1s 22ms/step - loss: 0.0057 - accuracy: 0.9999 - val_loss: 0.4069 - val_accuracy: 0.8788\n",
      "Epoch 36/40\n",
      "30/30 [==============================] - 1s 21ms/step - loss: 0.0055 - accuracy: 0.9999 - val_loss: 0.4092 - val_accuracy: 0.8775\n",
      "Epoch 37/40\n",
      "30/30 [==============================] - 1s 20ms/step - loss: 0.0054 - accuracy: 0.9999 - val_loss: 0.4145 - val_accuracy: 0.8761\n",
      "Epoch 38/40\n",
      "30/30 [==============================] - 1s 21ms/step - loss: 0.0051 - accuracy: 0.9999 - val_loss: 0.4149 - val_accuracy: 0.8769\n",
      "Epoch 39/40\n",
      "30/30 [==============================] - 1s 21ms/step - loss: 0.0048 - accuracy: 0.9999 - val_loss: 0.4176 - val_accuracy: 0.8766\n",
      "Epoch 40/40\n",
      "30/30 [==============================] - 1s 19ms/step - loss: 0.0046 - accuracy: 0.9999 - val_loss: 0.4205 - val_accuracy: 0.8764\n"
     ]
    }
   ],
   "source": [
    "history = model.fit(partial_x_train,\n",
    "                    partial_y_train,\n",
    "                    epochs=40,\n",
    "                    validation_data=(x_val, y_val),\n",
    "                    batch_size=512,verbose=1)\n",
    "\n"
   ]
  },
  {
   "cell_type": "code",
   "execution_count": 21,
   "metadata": {},
   "outputs": [
    {
     "name": "stdout",
     "output_type": "stream",
     "text": [
      "782/782 - 1s - loss: 0.4699 - accuracy: 0.8634\n"
     ]
    }
   ],
   "source": [
    "results = model.evaluate(test_data, test_labels, verbose=2)\n"
   ]
  },
  {
   "cell_type": "code",
   "execution_count": 22,
   "metadata": {},
   "outputs": [
    {
     "data": {
      "text/plain": [
       "dict_keys(['loss', 'accuracy', 'val_loss', 'val_accuracy'])"
      ]
     },
     "execution_count": 22,
     "metadata": {},
     "output_type": "execute_result"
    }
   ],
   "source": [
    "history_dict = history.history\n",
    "history_dict.keys()\n"
   ]
  },
  {
   "cell_type": "code",
   "execution_count": 24,
   "metadata": {},
   "outputs": [],
   "source": [
    "import matplotlib.pyplot as plt\n",
    "\n",
    "acc = history_dict['accuracy']\n",
    "val_acc = history_dict['val_accuracy']\n",
    "loss = history_dict['loss']\n",
    "val_loss = history_dict['val_loss']\n"
   ]
  },
  {
   "cell_type": "code",
   "execution_count": 25,
   "metadata": {},
   "outputs": [
    {
     "data": {
      "image/png": "[encoded data removed]",
      "text/plain": [
       "<Figure size 432x288 with 1 Axes>"
      ]
     },
     "metadata": {
      "needs_background": "light"
     },
     "output_type": "display_data"
    }
   ],
   "source": [
    "epochs = range(1, len(acc) +1)\n",
    "\n",
    "plt.plot(epochs, loss, 'bo', label=\"Training loss\")\n",
    "plt.plot(epochs, val_loss, 'b', label='Validation loss')\n",
    "plt.title(\"Training and Validation loss\")\n",
    "plt.xlabel('Epochs')\n",
    "plt.ylabel(\"Loss\")\n",
    "plt.legend()\n",
    "plt.show()\n"
   ]
  },
  {
   "cell_type": "code",
   "execution_count": null,
   "metadata": {},
   "outputs": [],
   "source": []
  }
 ],
 "metadata": {
  "kernelspec": {
   "display_name": "Python 3",
   "language": "python",
   "name": "python3"
  },
  "language_info": {
   "codemirror_mode": {
    "name": "ipython",
    "version": 3
   },
   "file_extension": ".py",
   "mimetype": "text/x-python",
   "name": "python",
   "nbconvert_exporter": "python",
   "pygments_lexer": "ipython3",
   "version": "3.7.9"
  }
 },
 "nbformat": 4,
 "nbformat_minor": 4
}
