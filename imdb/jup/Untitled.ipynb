{
 "cells": [
  {
   "cell_type": "code",
   "execution_count": 1,
   "metadata": {},
   "outputs": [
    {
     "name": "stdout",
     "output_type": "stream",
     "text": [
      "2.2.0\n"
     ]
    }
   ],
   "source": [
    "import tensorflow as tf\n",
    "from tensorflow import keras\n",
    "import numpy as np\n",
    "\n",
    "print(tf.__version__)"
   ]
  },
  {
   "cell_type": "code",
   "execution_count": 2,
   "metadata": {},
   "outputs": [
    {
     "name": "stderr",
     "output_type": "stream",
     "text": [
      "/home/ma/.bin/anaconda3/envs/tensor/lib/python3.8/site-packages/tensorflow/python/keras/datasets/imdb.py:155: VisibleDeprecationWarning: Creating an ndarray from ragged nested sequences (which is a list-or-tuple of lists-or-tuples-or ndarrays with different lengths or shapes) is deprecated. If you meant to do this, you must specify 'dtype=object' when creating the ndarray\n",
      "  x_train, y_train = np.array(xs[:idx]), np.array(labels[:idx])\n"
     ]
    },
    {
     "name": "stdout",
     "output_type": "stream",
     "text": [
      "Training entries: 25000, labels: 25000\n"
     ]
    },
    {
     "name": "stderr",
     "output_type": "stream",
     "text": [
      "/home/ma/.bin/anaconda3/envs/tensor/lib/python3.8/site-packages/tensorflow/python/keras/datasets/imdb.py:156: VisibleDeprecationWarning: Creating an ndarray from ragged nested sequences (which is a list-or-tuple of lists-or-tuples-or ndarrays with different lengths or shapes) is deprecated. If you meant to do this, you must specify 'dtype=object' when creating the ndarray\n",
      "  x_test, y_test = np.array(xs[idx:]), np.array(labels[idx:])\n"
     ]
    }
   ],
   "source": [
    "imdb = keras.datasets.imdb\n",
    "\n",
    "(train_data, train_labels), (test_data, test_labels) = imdb.load_data(num_words=10000)\n",
    "\n",
    "print(\"Training entries: {}, labels: {}\".format(len(train_data), len(train_labels)))\n"
   ]
  },
  {
   "cell_type": "code",
   "execution_count": 3,
   "metadata": {},
   "outputs": [
    {
     "name": "stdout",
     "output_type": "stream",
     "text": [
      "[1, 14, 22, 16, 43, 530, 973, 1622, 1385, 65, 458, 4468, 66, 3941, 4, 173, 36, 256, 5, 25, 100, 43, 838, 112, 50, 670, 2, 9, 35, 480, 284, 5, 150, 4, 172, 112, 167, 2, 336, 385, 39, 4, 172, 4536, 1111, 17, 546, 38, 13, 447, 4, 192, 50, 16, 6, 147, 2025, 19, 14, 22, 4, 1920, 4613, 469, 4, 22, 71, 87, 12, 16, 43, 530, 38, 76, 15, 13, 1247, 4, 22, 17, 515, 17, 12, 16, 626, 18, 2, 5, 62, 386, 12, 8, 316, 8, 106, 5, 4, 2223, 5244, 16, 480, 66, 3785, 33, 4, 130, 12, 16, 38, 619, 5, 25, 124, 51, 36, 135, 48, 25, 1415, 33, 6, 22, 12, 215, 28, 77, 52, 5, 14, 407, 16, 82, 2, 8, 4, 107, 117, 5952, 15, 256, 4, 2, 7, 3766, 5, 723, 36, 71, 43, 530, 476, 26, 400, 317, 46, 7, 4, 2, 1029, 13, 104, 88, 4, 381, 15, 297, 98, 32, 2071, 56, 26, 141, 6, 194, 7486, 18, 4, 226, 22, 21, 134, 476, 26, 480, 5, 144, 30, 5535, 18, 51, 36, 28, 224, 92, 25, 104, 4, 226, 65, 16, 38, 1334, 88, 12, 16, 283, 5, 16, 4472, 113, 103, 32, 15, 16, 5345, 19, 178, 32]\n"
     ]
    }
   ],
   "source": [
    "print(train_data[0])"
   ]
  },
  {
   "cell_type": "code",
   "execution_count": 4,
   "metadata": {},
   "outputs": [
    {
     "data": {
      "text/plain": [
       "(218, 189)"
      ]
     },
     "execution_count": 4,
     "metadata": {},
     "output_type": "execute_result"
    }
   ],
   "source": [
    "len(train_data[0]), len(train_data[1])\n"
   ]
  },
  {
   "cell_type": "code",
   "execution_count": 6,
   "metadata": {},
   "outputs": [
    {
     "name": "stdout",
     "output_type": "stream",
     "text": [
      "Downloading data from https://storage.googleapis.com/tensorflow/tf-keras-datasets/imdb_word_index.json\n",
      "1646592/1641221 [==============================] - 2s 1us/step\n"
     ]
    }
   ],
   "source": [
    "word_index = imdb.get_word_index()\n",
    "\n"
   ]
  },
  {
   "cell_type": "code",
   "execution_count": 9,
   "metadata": {},
   "outputs": [],
   "source": [
    "word_index = {k:(v+3) for k,v in word_index.items()}\n",
    "word_index[\"<PAD>\"] = 0\n",
    "word_index[\"<START>\"] = 1\n",
    "word_index[\"<UNK>\"] = 2\n",
    "word_index['<UNUSED>'] = 3\n",
    "\n",
    "reverse_word_index = dict([(value, key) for (key, value) in word_index.items()])\n",
    "\n",
    "def decod_review(text):\n",
    "    return ' '.join([reverse_word_index.get(i, '?') for i in text])\n"
   ]
  },
  {
   "cell_type": "code",
   "execution_count": 15,
   "metadata": {},
   "outputs": [
    {
     "data": {
      "text/plain": [
       "\"<START> big hair big boobs bad music and a giant safety pin these are the words to best describe this terrible movie i love cheesy horror movies and i've seen hundreds but this had got to be on of the worst ever made the plot is paper thin and ridiculous the acting is an abomination the script is completely laughable the best is the end showdown with the cop and how he worked out who the killer is it's just so damn terribly written the clothes are sickening and funny in equal <UNK> the hair is big lots of boobs <UNK> men wear those cut <UNK> shirts that show off their <UNK> sickening that men actually wore them and the music is just <UNK> trash that plays over and over again in almost every scene there is trashy music boobs and <UNK> taking away bodies and the gym still doesn't close for <UNK> all joking aside this is a truly bad film whose only charm is to look back on the disaster that was the 80's and have a good old laugh at how bad everything was back then\""
      ]
     },
     "execution_count": 15,
     "metadata": {},
     "output_type": "execute_result"
    }
   ],
   "source": [
    "decod_review(train_data[1])"
   ]
  },
  {
   "cell_type": "code",
   "execution_count": 19,
   "metadata": {},
   "outputs": [
    {
     "data": {
      "text/plain": [
       "300"
      ]
     },
     "execution_count": 19,
     "metadata": {},
     "output_type": "execute_result"
    }
   ],
   "source": [
    "word_index[\"1\"]"
   ]
  },
  {
   "cell_type": "code",
   "execution_count": 20,
   "metadata": {},
   "outputs": [
    {
     "data": {
      "text/plain": [
       "[1,\n",
       " 37,\n",
       " 93,\n",
       " 14,\n",
       " 22,\n",
       " 13,\n",
       " 119,\n",
       " 14,\n",
       " 22,\n",
       " 1843,\n",
       " 47,\n",
       " 6,\n",
       " 4946,\n",
       " 281,\n",
       " 7,\n",
       " 486,\n",
       " 10,\n",
       " 10,\n",
       " 14,\n",
       " 9067,\n",
       " 2427,\n",
       " 405,\n",
       " 7,\n",
       " 22,\n",
       " 231,\n",
       " 9,\n",
       " 2276,\n",
       " 21,\n",
       " 12,\n",
       " 9,\n",
       " 254,\n",
       " 8,\n",
       " 987,\n",
       " 42,\n",
       " 776,\n",
       " 8,\n",
       " 859,\n",
       " 15,\n",
       " 2327,\n",
       " 5,\n",
       " 105,\n",
       " 37,\n",
       " 165,\n",
       " 28,\n",
       " 3741,\n",
       " 26,\n",
       " 51,\n",
       " 202,\n",
       " 141,\n",
       " 6,\n",
       " 22,\n",
       " 1137,\n",
       " 209,\n",
       " 15,\n",
       " 6,\n",
       " 212,\n",
       " 9,\n",
       " 43,\n",
       " 6,\n",
       " 762,\n",
       " 7,\n",
       " 1008,\n",
       " 37,\n",
       " 2263,\n",
       " 12,\n",
       " 203,\n",
       " 79,\n",
       " 919,\n",
       " 21,\n",
       " 12,\n",
       " 271,\n",
       " 143,\n",
       " 25,\n",
       " 40,\n",
       " 6,\n",
       " 320,\n",
       " 52,\n",
       " 2,\n",
       " 375,\n",
       " 10,\n",
       " 10,\n",
       " 2,\n",
       " 203,\n",
       " 24,\n",
       " 8001,\n",
       " 8,\n",
       " 653,\n",
       " 2,\n",
       " 113,\n",
       " 21,\n",
       " 13,\n",
       " 1144,\n",
       " 4,\n",
       " 1137,\n",
       " 5,\n",
       " 2327,\n",
       " 36,\n",
       " 4949,\n",
       " 56,\n",
       " 23,\n",
       " 25,\n",
       " 13,\n",
       " 645,\n",
       " 14,\n",
       " 22,\n",
       " 536,\n",
       " 449,\n",
       " 13,\n",
       " 79,\n",
       " 12,\n",
       " 2689,\n",
       " 212,\n",
       " 125,\n",
       " 4,\n",
       " 1513,\n",
       " 2,\n",
       " 2,\n",
       " 5,\n",
       " 12,\n",
       " 9,\n",
       " 15,\n",
       " 21,\n",
       " 48,\n",
       " 25,\n",
       " 990,\n",
       " 692,\n",
       " 50,\n",
       " 9,\n",
       " 1492,\n",
       " 3004,\n",
       " 5,\n",
       " 109,\n",
       " 388,\n",
       " 5242,\n",
       " 12,\n",
       " 46,\n",
       " 11,\n",
       " 14,\n",
       " 281,\n",
       " 4,\n",
       " 22,\n",
       " 2,\n",
       " 12,\n",
       " 166,\n",
       " 2,\n",
       " 15,\n",
       " 202,\n",
       " 6618,\n",
       " 48,\n",
       " 335,\n",
       " 1439,\n",
       " 8,\n",
       " 67,\n",
       " 98,\n",
       " 5,\n",
       " 95,\n",
       " 7,\n",
       " 265,\n",
       " 12,\n",
       " 271,\n",
       " 23,\n",
       " 94,\n",
       " 9516,\n",
       " 7742,\n",
       " 96,\n",
       " 10,\n",
       " 10,\n",
       " 25,\n",
       " 80,\n",
       " 717,\n",
       " 4,\n",
       " 213,\n",
       " 48,\n",
       " 25,\n",
       " 92,\n",
       " 1913,\n",
       " 4,\n",
       " 3484,\n",
       " 8,\n",
       " 4984,\n",
       " 2607,\n",
       " 33,\n",
       " 388,\n",
       " 11,\n",
       " 4,\n",
       " 22,\n",
       " 9754,\n",
       " 200,\n",
       " 635,\n",
       " 5,\n",
       " 2,\n",
       " 9,\n",
       " 31,\n",
       " 7,\n",
       " 4,\n",
       " 757,\n",
       " 7,\n",
       " 14,\n",
       " 20,\n",
       " 10,\n",
       " 10,\n",
       " 2,\n",
       " 218,\n",
       " 404,\n",
       " 21,\n",
       " 1393,\n",
       " 84,\n",
       " 93,\n",
       " 12,\n",
       " 13,\n",
       " 181,\n",
       " 53,\n",
       " 10,\n",
       " 10,\n",
       " 4,\n",
       " 2,\n",
       " 673,\n",
       " 139,\n",
       " 26,\n",
       " 35,\n",
       " 1557,\n",
       " 6907,\n",
       " 10,\n",
       " 10,\n",
       " 276,\n",
       " 23,\n",
       " 129,\n",
       " 2224,\n",
       " 5848]"
      ]
     },
     "execution_count": 20,
     "metadata": {},
     "output_type": "execute_result"
    }
   ],
   "source": [
    "train_data[300]"
   ]
  },
  {
   "cell_type": "code",
   "execution_count": null,
   "metadata": {},
   "outputs": [],
   "source": []
  }
 ],
 "metadata": {
  "kernelspec": {
   "display_name": "Python 3",
   "language": "python",
   "name": "python3"
  },
  "language_info": {
   "codemirror_mode": {
    "name": "ipython",
    "version": 3
   },
   "file_extension": ".py",
   "mimetype": "text/x-python",
   "name": "python",
   "nbconvert_exporter": "python",
   "pygments_lexer": "ipython3",
   "version": "3.8.5"
  }
 },
 "nbformat": 4,
 "nbformat_minor": 4
}
